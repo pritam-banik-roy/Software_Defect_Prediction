{
  "nbformat": 4,
  "nbformat_minor": 0,
  "metadata": {
    "colab": {
      "provenance": [],
      "authorship_tag": "ABX9TyOufg4JQj11UpPWiMUtdhZ0",
      "include_colab_link": true
    },
    "kernelspec": {
      "name": "python3",
      "display_name": "Python 3"
    },
    "language_info": {
      "name": "python"
    }
  },
  "cells": [
    {
      "cell_type": "markdown",
      "metadata": {
        "id": "view-in-github",
        "colab_type": "text"
      },
      "source": [
        "<a href=\"https://colab.research.google.com/github/pritam-banik-roy/Software_Defect_Prediction/blob/main/Software_Deflection_Prediction.ipynb\" target=\"_parent\"><img src=\"https://colab.research.google.com/assets/colab-badge.svg\" alt=\"Open In Colab\"/></a>"
      ]
    },
    {
      "cell_type": "code",
      "execution_count": null,
      "metadata": {
        "colab": {
          "base_uri": "https://localhost:8080/"
        },
        "id": "7frVJkG1ct1A",
        "outputId": "73f14094-a52a-4198-dc8a-5d6e5205ac42"
      },
      "outputs": [
        {
          "output_type": "stream",
          "name": "stdout",
          "text": [
            "Requirement already satisfied: imbalanced-learn in /usr/local/lib/python3.10/dist-packages (0.10.1)\n",
            "Requirement already satisfied: numpy>=1.17.3 in /usr/local/lib/python3.10/dist-packages (from imbalanced-learn) (1.22.4)\n",
            "Requirement already satisfied: scipy>=1.3.2 in /usr/local/lib/python3.10/dist-packages (from imbalanced-learn) (1.10.1)\n",
            "Requirement already satisfied: scikit-learn>=1.0.2 in /usr/local/lib/python3.10/dist-packages (from imbalanced-learn) (1.2.2)\n",
            "Requirement already satisfied: joblib>=1.1.1 in /usr/local/lib/python3.10/dist-packages (from imbalanced-learn) (1.2.0)\n",
            "Requirement already satisfied: threadpoolctl>=2.0.0 in /usr/local/lib/python3.10/dist-packages (from imbalanced-learn) (3.1.0)\n"
          ]
        }
      ],
      "source": [
        "pip install imbalanced-learn"
      ]
    },
    {
      "cell_type": "markdown",
      "source": [
        "Importing Packages"
      ],
      "metadata": {
        "id": "ATo4c99TjJgv"
      }
    },
    {
      "cell_type": "code",
      "source": [
        "import pandas as pd\n",
        "import tensorflow as tf\n",
        "import numpy as np\n",
        "import matplotlib as plt\n",
        "import seaborn as sns\n"
      ],
      "metadata": {
        "id": "45RZqzLldAUd"
      },
      "execution_count": null,
      "outputs": []
    },
    {
      "cell_type": "code",
      "source": [
        "df = pd.read_csv('/content/pc1.csv')\n"
      ],
      "metadata": {
        "id": "hP2h41VWjqf0"
      },
      "execution_count": null,
      "outputs": []
    },
    {
      "cell_type": "code",
      "source": [
        "print(df.head())\n",
        "\n",
        "df.isnull().sum()"
      ],
      "metadata": {
        "colab": {
          "base_uri": "https://localhost:8080/"
        },
        "id": "3_NxoBHKj2RG",
        "outputId": "5c3172db-4abc-4ed2-de53-0dbec2a97e0c"
      },
      "execution_count": null,
      "outputs": [
        {
          "output_type": "stream",
          "name": "stdout",
          "text": [
            "   McCabe's line count of code  McCabe \"cyclomatic complexity”  \\\n",
            "0                          1.1                             1.4   \n",
            "1                          1.0                             1.0   \n",
            "2                         91.0                             9.0   \n",
            "3                        109.0                            21.0   \n",
            "4                        505.0                           106.0   \n",
            "\n",
            "   McCabe \"essential complexity”  McCabe \"design complexity”  \\\n",
            "0                            1.4                         1.4   \n",
            "1                            1.0                         1.0   \n",
            "2                            3.0                         2.0   \n",
            "3                            5.0                        18.0   \n",
            "4                           41.0                        82.0   \n",
            "\n",
            "   Halstead total operators + operands  Halstead \"volume”  \\\n",
            "0                                  1.3               1.30   \n",
            "1                                  1.0               1.00   \n",
            "2                                318.0            2089.21   \n",
            "3                                381.0            2547.56   \n",
            "4                               2339.0           20696.93   \n",
            "\n",
            "   Halstead \"program length”  Halstead \"difficulty”  Halstead \"intelligence”  \\\n",
            "0                       1.30                   1.30                     1.30   \n",
            "1                       1.00                   1.00                     1.00   \n",
            "2                       0.04                  27.68                    75.47   \n",
            "3                       0.04                  28.37                    89.79   \n",
            "4                       0.01                  75.93                   272.58   \n",
            "\n",
            "   Halstead \"effort”  ...  Halstead's line count  \\\n",
            "0               1.30  ...                      2   \n",
            "1               1.00  ...                      1   \n",
            "2           57833.24  ...                     80   \n",
            "3           72282.68  ...                     97   \n",
            "4         1571506.88  ...                    457   \n",
            "\n",
            "   Halstead's count of lines of comments  Halstead's count of blank  \\\n",
            "0                                      2                          2   \n",
            "1                                      1                          1   \n",
            "2                                     44                         11   \n",
            "3                                     41                         12   \n",
            "4                                     71                         48   \n",
            "\n",
            "   lineslOCodeAndComment  unique operators  unique operands  total operators  \\\n",
            "0                      2               1.2              1.2              1.2   \n",
            "1                      1               1.0              1.0              1.0   \n",
            "2                     31              29.0             66.0            192.0   \n",
            "3                     24              28.0             75.0            229.0   \n",
            "4                     49              64.0            397.0           1397.0   \n",
            "\n",
            "   total operands  branchCount of the flow graph  defects  \n",
            "0             1.2                            1.4        0  \n",
            "1             1.0                            1.0        1  \n",
            "2           126.0                           17.0        1  \n",
            "3           152.0                           38.0        1  \n",
            "4           942.0                          178.0        1  \n",
            "\n",
            "[5 rows x 22 columns]\n"
          ]
        },
        {
          "output_type": "execute_result",
          "data": {
            "text/plain": [
              "McCabe's line count of code              0\n",
              "McCabe \"cyclomatic complexity”           0\n",
              "McCabe \"essential complexity”            0\n",
              "McCabe \"design complexity”               0\n",
              "Halstead total operators + operands      0\n",
              "Halstead \"volume”                        0\n",
              "Halstead \"program length”                0\n",
              "Halstead \"difficulty”                    0\n",
              "Halstead \"intelligence”                  0\n",
              "Halstead \"effort”                        0\n",
              "Halstead                                 0\n",
              "Halstead's time estimator                0\n",
              "Halstead's line count                    0\n",
              "Halstead's count of lines of comments    0\n",
              "Halstead's count of blank                0\n",
              "lineslOCodeAndComment                    0\n",
              "unique operators                         0\n",
              "unique operands                          0\n",
              "total operators                          0\n",
              "total operands                           0\n",
              "branchCount of the flow graph            0\n",
              "defects                                  0\n",
              "dtype: int64"
            ]
          },
          "metadata": {},
          "execution_count": 13
        }
      ]
    },
    {
      "cell_type": "markdown",
      "source": [
        "Shuffling the dataset. Segementation into training and test set (80% - 20%) Normalizing the values"
      ],
      "metadata": {
        "id": "d2SlyjFzrEXR"
      }
    },
    {
      "cell_type": "code",
      "source": [
        "from sklearn.model_selection import train_test_split\n",
        "\n",
        "X = df.drop(['defects'], axis =1).values\n",
        "\n",
        "y = df['defects'].values"
      ],
      "metadata": {
        "id": "8Mh3b26oVUyG"
      },
      "execution_count": null,
      "outputs": []
    },
    {
      "cell_type": "code",
      "source": [
        "from sklearn.preprocessing import MinMaxScaler\n",
        "scaler = MinMaxScaler(feature_range=[0,1])\n",
        "\n",
        "train_X,test_X,train_Y,test_Y = train_test_split(X, y, test_size=0.2, random_state = 2)"
      ],
      "metadata": {
        "id": "lweITR08k7-F"
      },
      "execution_count": null,
      "outputs": []
    },
    {
      "cell_type": "markdown",
      "source": [
        "Keras Model Definition"
      ],
      "metadata": {
        "id": "NO3v0MdwrQVo"
      }
    },
    {
      "cell_type": "code",
      "source": [
        "from tensorflow.keras.models import Sequential\n",
        "from tensorflow.keras.layers import Dense,Activation,BatchNormalization, Dropout\n",
        "from tensorflow.keras.optimizers import Adam\n",
        "from tensorflow.keras.losses import BinaryCrossentropy"
      ],
      "metadata": {
        "id": "uKEOOsj8k83e"
      },
      "execution_count": null,
      "outputs": []
    },
    {
      "cell_type": "code",
      "source": [
        "model = Sequential([\n",
        "(Dense(32,activation = 'relu',input_shape = (21,))),\n",
        "(BatchNormalization()),\n",
        "(Dense(32,activation = 'relu')),\n",
        "(BatchNormalization()),\n",
        "(Dense(64,activation = 'relu')),\n",
        "(Dense(64,activation = 'relu')),\n",
        "(Dense(64,activation = 'relu')),\n",
        "(Dense(64,activation = 'relu')),\n",
        "(BatchNormalization()),\n",
        "(Dense(32,activation = 'relu')),\n",
        "(Dense(32,activation = 'relu')),\n",
        "(Dense(1,activation = 'linear',kernel_regularizer=tf.keras.regularizers.l2(0.01)))\n",
        "])\n",
        "ad = Adam(learning_rate = 0.0001)\n",
        "\n",
        "\n",
        "model.compile(optimizer = ad, loss='hinge',metrics = ['accuracy'])"
      ],
      "metadata": {
        "id": "AfW7NunmlDJ5"
      },
      "execution_count": null,
      "outputs": []
    },
    {
      "cell_type": "code",
      "source": [
        "scaler = MinMaxScaler(feature_range=[0,1])\n",
        "\n",
        "train_X,test_X,train_Y,test_Y = train_test_split(X, y, test_size=0.2, random_state = 2)"
      ],
      "metadata": {
        "id": "DqxvCqYklV7J"
      },
      "execution_count": null,
      "outputs": []
    },
    {
      "cell_type": "markdown",
      "source": [
        "Training"
      ],
      "metadata": {
        "id": "peDcPS6LrZ6m"
      }
    },
    {
      "cell_type": "code",
      "source": [
        "model.fit(x = train_X, y = train_Y,validation_data=(test_X,test_Y), batch_size = 64, epochs =200)\n",
        "model.summary()\n"
      ],
      "metadata": {
        "colab": {
          "base_uri": "https://localhost:8080/"
        },
        "id": "bcBxqivGlodl",
        "outputId": "f53743e7-74d3-4317-9d3b-10bf1d674371"
      },
      "execution_count": null,
      "outputs": [
        {
          "output_type": "stream",
          "name": "stdout",
          "text": [
            "Epoch 1/200\n",
            "14/14 [==============================] - 5s 33ms/step - loss: 1.6975 - accuracy: 0.6381 - val_loss: 1.1464 - val_accuracy: 0.9234\n",
            "Epoch 2/200\n",
            "14/14 [==============================] - 0s 6ms/step - loss: 1.5412 - accuracy: 0.7148 - val_loss: 1.1013 - val_accuracy: 0.9324\n",
            "Epoch 3/200\n",
            "14/14 [==============================] - 0s 8ms/step - loss: 1.3709 - accuracy: 0.8117 - val_loss: 1.0722 - val_accuracy: 0.9324\n",
            "Epoch 4/200\n",
            "14/14 [==============================] - 0s 6ms/step - loss: 1.2557 - accuracy: 0.8410 - val_loss: 1.0470 - val_accuracy: 0.9324\n",
            "Epoch 5/200\n",
            "14/14 [==============================] - 0s 7ms/step - loss: 1.1446 - accuracy: 0.8625 - val_loss: 1.0222 - val_accuracy: 0.9369\n",
            "Epoch 6/200\n",
            "14/14 [==============================] - 0s 9ms/step - loss: 1.0680 - accuracy: 0.8625 - val_loss: 0.9949 - val_accuracy: 0.9369\n",
            "Epoch 7/200\n",
            "14/14 [==============================] - 0s 7ms/step - loss: 0.9823 - accuracy: 0.8602 - val_loss: 0.9584 - val_accuracy: 0.9414\n",
            "Epoch 8/200\n",
            "14/14 [==============================] - 0s 7ms/step - loss: 0.8833 - accuracy: 0.8692 - val_loss: 0.9258 - val_accuracy: 0.9459\n",
            "Epoch 9/200\n",
            "14/14 [==============================] - 0s 7ms/step - loss: 0.7557 - accuracy: 0.8749 - val_loss: 0.8944 - val_accuracy: 0.9414\n",
            "Epoch 10/200\n",
            "14/14 [==============================] - 0s 6ms/step - loss: 0.6597 - accuracy: 0.8805 - val_loss: 0.8568 - val_accuracy: 0.9414\n",
            "Epoch 11/200\n",
            "14/14 [==============================] - 0s 6ms/step - loss: 0.5288 - accuracy: 0.8974 - val_loss: 0.8123 - val_accuracy: 0.9414\n",
            "Epoch 12/200\n",
            "14/14 [==============================] - 0s 8ms/step - loss: 0.4320 - accuracy: 0.9087 - val_loss: 0.7675 - val_accuracy: 0.9414\n",
            "Epoch 13/200\n",
            "14/14 [==============================] - 0s 8ms/step - loss: 0.3310 - accuracy: 0.9188 - val_loss: 0.7186 - val_accuracy: 0.9414\n",
            "Epoch 14/200\n",
            "14/14 [==============================] - 0s 6ms/step - loss: 0.2849 - accuracy: 0.9245 - val_loss: 0.6716 - val_accuracy: 0.9414\n",
            "Epoch 15/200\n",
            "14/14 [==============================] - 0s 8ms/step - loss: 0.2517 - accuracy: 0.9245 - val_loss: 0.6307 - val_accuracy: 0.9414\n",
            "Epoch 16/200\n",
            "14/14 [==============================] - 0s 7ms/step - loss: 0.2389 - accuracy: 0.9245 - val_loss: 0.5817 - val_accuracy: 0.9459\n",
            "Epoch 17/200\n",
            "14/14 [==============================] - 0s 7ms/step - loss: 0.2460 - accuracy: 0.9233 - val_loss: 0.5545 - val_accuracy: 0.9459\n",
            "Epoch 18/200\n",
            "14/14 [==============================] - 0s 6ms/step - loss: 0.2394 - accuracy: 0.9222 - val_loss: 0.5161 - val_accuracy: 0.9459\n",
            "Epoch 19/200\n",
            "14/14 [==============================] - 0s 8ms/step - loss: 0.2212 - accuracy: 0.9256 - val_loss: 0.4764 - val_accuracy: 0.9459\n",
            "Epoch 20/200\n",
            "14/14 [==============================] - 0s 20ms/step - loss: 0.2209 - accuracy: 0.9233 - val_loss: 0.4431 - val_accuracy: 0.9459\n",
            "Epoch 21/200\n",
            "14/14 [==============================] - 0s 21ms/step - loss: 0.2142 - accuracy: 0.9245 - val_loss: 0.4096 - val_accuracy: 0.9414\n",
            "Epoch 22/200\n",
            "14/14 [==============================] - 0s 15ms/step - loss: 0.2138 - accuracy: 0.9211 - val_loss: 0.3814 - val_accuracy: 0.9414\n",
            "Epoch 23/200\n",
            "14/14 [==============================] - 0s 14ms/step - loss: 0.1984 - accuracy: 0.9256 - val_loss: 0.3553 - val_accuracy: 0.9459\n",
            "Epoch 24/200\n",
            "14/14 [==============================] - 0s 12ms/step - loss: 0.1928 - accuracy: 0.9256 - val_loss: 0.3289 - val_accuracy: 0.9459\n",
            "Epoch 25/200\n",
            "14/14 [==============================] - 0s 16ms/step - loss: 0.2023 - accuracy: 0.9245 - val_loss: 0.3068 - val_accuracy: 0.9414\n",
            "Epoch 26/200\n",
            "14/14 [==============================] - 0s 12ms/step - loss: 0.1940 - accuracy: 0.9256 - val_loss: 0.2792 - val_accuracy: 0.9414\n",
            "Epoch 27/200\n",
            "14/14 [==============================] - 0s 15ms/step - loss: 0.1954 - accuracy: 0.9256 - val_loss: 0.2565 - val_accuracy: 0.9414\n",
            "Epoch 28/200\n",
            "14/14 [==============================] - 0s 13ms/step - loss: 0.2012 - accuracy: 0.9267 - val_loss: 0.2384 - val_accuracy: 0.9414\n",
            "Epoch 29/200\n",
            "14/14 [==============================] - 0s 15ms/step - loss: 0.2022 - accuracy: 0.9278 - val_loss: 0.2306 - val_accuracy: 0.9414\n",
            "Epoch 30/200\n",
            "14/14 [==============================] - 0s 25ms/step - loss: 0.2021 - accuracy: 0.9267 - val_loss: 0.2250 - val_accuracy: 0.9414\n",
            "Epoch 31/200\n",
            "14/14 [==============================] - 0s 32ms/step - loss: 0.1915 - accuracy: 0.9267 - val_loss: 0.2223 - val_accuracy: 0.9414\n",
            "Epoch 32/200\n",
            "14/14 [==============================] - 0s 27ms/step - loss: 0.1956 - accuracy: 0.9267 - val_loss: 0.2109 - val_accuracy: 0.9414\n",
            "Epoch 33/200\n",
            "14/14 [==============================] - 0s 22ms/step - loss: 0.1984 - accuracy: 0.9267 - val_loss: 0.2055 - val_accuracy: 0.9414\n",
            "Epoch 34/200\n",
            "14/14 [==============================] - 0s 22ms/step - loss: 0.1890 - accuracy: 0.9267 - val_loss: 0.2019 - val_accuracy: 0.9414\n",
            "Epoch 35/200\n",
            "14/14 [==============================] - 0s 22ms/step - loss: 0.1931 - accuracy: 0.9267 - val_loss: 0.1971 - val_accuracy: 0.9414\n",
            "Epoch 36/200\n",
            "14/14 [==============================] - 0s 22ms/step - loss: 0.1875 - accuracy: 0.9267 - val_loss: 0.1884 - val_accuracy: 0.9414\n",
            "Epoch 37/200\n",
            "14/14 [==============================] - 0s 19ms/step - loss: 0.1923 - accuracy: 0.9267 - val_loss: 0.1818 - val_accuracy: 0.9414\n",
            "Epoch 38/200\n",
            "14/14 [==============================] - 0s 18ms/step - loss: 0.1920 - accuracy: 0.9278 - val_loss: 0.1785 - val_accuracy: 0.9414\n",
            "Epoch 39/200\n",
            "14/14 [==============================] - 0s 21ms/step - loss: 0.1877 - accuracy: 0.9278 - val_loss: 0.1728 - val_accuracy: 0.9414\n",
            "Epoch 40/200\n",
            "14/14 [==============================] - 0s 23ms/step - loss: 0.1928 - accuracy: 0.9256 - val_loss: 0.1690 - val_accuracy: 0.9414\n",
            "Epoch 41/200\n",
            "14/14 [==============================] - 0s 14ms/step - loss: 0.1844 - accuracy: 0.9278 - val_loss: 0.1663 - val_accuracy: 0.9414\n",
            "Epoch 42/200\n",
            "14/14 [==============================] - 0s 13ms/step - loss: 0.1832 - accuracy: 0.9278 - val_loss: 0.1670 - val_accuracy: 0.9414\n",
            "Epoch 43/200\n",
            "14/14 [==============================] - 0s 21ms/step - loss: 0.1911 - accuracy: 0.9278 - val_loss: 0.1672 - val_accuracy: 0.9414\n",
            "Epoch 44/200\n",
            "14/14 [==============================] - 0s 11ms/step - loss: 0.1872 - accuracy: 0.9278 - val_loss: 0.1736 - val_accuracy: 0.9369\n",
            "Epoch 45/200\n",
            "14/14 [==============================] - 0s 15ms/step - loss: 0.1921 - accuracy: 0.9278 - val_loss: 0.1690 - val_accuracy: 0.9414\n",
            "Epoch 46/200\n",
            "14/14 [==============================] - 0s 23ms/step - loss: 0.1818 - accuracy: 0.9290 - val_loss: 0.1682 - val_accuracy: 0.9414\n",
            "Epoch 47/200\n",
            "14/14 [==============================] - 0s 16ms/step - loss: 0.1908 - accuracy: 0.9278 - val_loss: 0.1710 - val_accuracy: 0.9414\n",
            "Epoch 48/200\n",
            "14/14 [==============================] - 0s 18ms/step - loss: 0.1886 - accuracy: 0.9256 - val_loss: 0.1738 - val_accuracy: 0.9414\n",
            "Epoch 49/200\n",
            "14/14 [==============================] - 0s 18ms/step - loss: 0.1868 - accuracy: 0.9278 - val_loss: 0.1774 - val_accuracy: 0.9414\n",
            "Epoch 50/200\n",
            "14/14 [==============================] - 0s 19ms/step - loss: 0.1849 - accuracy: 0.9290 - val_loss: 0.1737 - val_accuracy: 0.9414\n",
            "Epoch 51/200\n",
            "14/14 [==============================] - 0s 22ms/step - loss: 0.1851 - accuracy: 0.9278 - val_loss: 0.1885 - val_accuracy: 0.9414\n",
            "Epoch 52/200\n",
            "14/14 [==============================] - 0s 15ms/step - loss: 0.1764 - accuracy: 0.9290 - val_loss: 0.1759 - val_accuracy: 0.9414\n",
            "Epoch 53/200\n",
            "14/14 [==============================] - 0s 18ms/step - loss: 0.1837 - accuracy: 0.9278 - val_loss: 0.1814 - val_accuracy: 0.9414\n",
            "Epoch 54/200\n",
            "14/14 [==============================] - 0s 15ms/step - loss: 0.1866 - accuracy: 0.9290 - val_loss: 0.1789 - val_accuracy: 0.9369\n",
            "Epoch 55/200\n",
            "14/14 [==============================] - 0s 16ms/step - loss: 0.1810 - accuracy: 0.9278 - val_loss: 0.1850 - val_accuracy: 0.9414\n",
            "Epoch 56/200\n",
            "14/14 [==============================] - 0s 13ms/step - loss: 0.1833 - accuracy: 0.9278 - val_loss: 0.1852 - val_accuracy: 0.9414\n",
            "Epoch 57/200\n",
            "14/14 [==============================] - 0s 22ms/step - loss: 0.1850 - accuracy: 0.9267 - val_loss: 0.1880 - val_accuracy: 0.9414\n",
            "Epoch 58/200\n",
            "14/14 [==============================] - 0s 13ms/step - loss: 0.1821 - accuracy: 0.9278 - val_loss: 0.1910 - val_accuracy: 0.9414\n",
            "Epoch 59/200\n",
            "14/14 [==============================] - 0s 14ms/step - loss: 0.1861 - accuracy: 0.9278 - val_loss: 0.1833 - val_accuracy: 0.9369\n",
            "Epoch 60/200\n",
            "14/14 [==============================] - 0s 10ms/step - loss: 0.1762 - accuracy: 0.9278 - val_loss: 0.1811 - val_accuracy: 0.9414\n",
            "Epoch 61/200\n",
            "14/14 [==============================] - 0s 23ms/step - loss: 0.1816 - accuracy: 0.9301 - val_loss: 0.1790 - val_accuracy: 0.9414\n",
            "Epoch 62/200\n",
            "14/14 [==============================] - 0s 13ms/step - loss: 0.1816 - accuracy: 0.9278 - val_loss: 0.1830 - val_accuracy: 0.9414\n",
            "Epoch 63/200\n",
            "14/14 [==============================] - 0s 22ms/step - loss: 0.1739 - accuracy: 0.9290 - val_loss: 0.1797 - val_accuracy: 0.9414\n",
            "Epoch 64/200\n",
            "14/14 [==============================] - 0s 11ms/step - loss: 0.1789 - accuracy: 0.9301 - val_loss: 0.1784 - val_accuracy: 0.9414\n",
            "Epoch 65/200\n",
            "14/14 [==============================] - 0s 18ms/step - loss: 0.1835 - accuracy: 0.9290 - val_loss: 0.1812 - val_accuracy: 0.9414\n",
            "Epoch 66/200\n",
            "14/14 [==============================] - 0s 13ms/step - loss: 0.1812 - accuracy: 0.9267 - val_loss: 0.1773 - val_accuracy: 0.9414\n",
            "Epoch 67/200\n",
            "14/14 [==============================] - 0s 11ms/step - loss: 0.1824 - accuracy: 0.9278 - val_loss: 0.1766 - val_accuracy: 0.9414\n",
            "Epoch 68/200\n",
            "14/14 [==============================] - 0s 15ms/step - loss: 0.1816 - accuracy: 0.9301 - val_loss: 0.1829 - val_accuracy: 0.9414\n",
            "Epoch 69/200\n",
            "14/14 [==============================] - 0s 14ms/step - loss: 0.1812 - accuracy: 0.9301 - val_loss: 0.1858 - val_accuracy: 0.9414\n",
            "Epoch 70/200\n",
            "14/14 [==============================] - 0s 16ms/step - loss: 0.1789 - accuracy: 0.9278 - val_loss: 0.1795 - val_accuracy: 0.9414\n",
            "Epoch 71/200\n",
            "14/14 [==============================] - 0s 13ms/step - loss: 0.1785 - accuracy: 0.9290 - val_loss: 0.1814 - val_accuracy: 0.9414\n",
            "Epoch 72/200\n",
            "14/14 [==============================] - 0s 15ms/step - loss: 0.1768 - accuracy: 0.9301 - val_loss: 0.1901 - val_accuracy: 0.9414\n",
            "Epoch 73/200\n",
            "14/14 [==============================] - 0s 15ms/step - loss: 0.1765 - accuracy: 0.9312 - val_loss: 0.1948 - val_accuracy: 0.9414\n",
            "Epoch 74/200\n",
            "14/14 [==============================] - 0s 12ms/step - loss: 0.1767 - accuracy: 0.9267 - val_loss: 0.1990 - val_accuracy: 0.9414\n",
            "Epoch 75/200\n",
            "14/14 [==============================] - 0s 15ms/step - loss: 0.1862 - accuracy: 0.9267 - val_loss: 0.2127 - val_accuracy: 0.9414\n",
            "Epoch 76/200\n",
            "14/14 [==============================] - 0s 21ms/step - loss: 0.1741 - accuracy: 0.9335 - val_loss: 0.2037 - val_accuracy: 0.9414\n",
            "Epoch 77/200\n",
            "14/14 [==============================] - 0s 15ms/step - loss: 0.1833 - accuracy: 0.9267 - val_loss: 0.1832 - val_accuracy: 0.9414\n",
            "Epoch 78/200\n",
            "14/14 [==============================] - 0s 16ms/step - loss: 0.1747 - accuracy: 0.9312 - val_loss: 0.1835 - val_accuracy: 0.9414\n",
            "Epoch 79/200\n",
            "14/14 [==============================] - 0s 14ms/step - loss: 0.1810 - accuracy: 0.9290 - val_loss: 0.1745 - val_accuracy: 0.9414\n",
            "Epoch 80/200\n",
            "14/14 [==============================] - 0s 13ms/step - loss: 0.1808 - accuracy: 0.9256 - val_loss: 0.1744 - val_accuracy: 0.9414\n",
            "Epoch 81/200\n",
            "14/14 [==============================] - 0s 15ms/step - loss: 0.1821 - accuracy: 0.9278 - val_loss: 0.1810 - val_accuracy: 0.9414\n",
            "Epoch 82/200\n",
            "14/14 [==============================] - 0s 15ms/step - loss: 0.1763 - accuracy: 0.9290 - val_loss: 0.1821 - val_accuracy: 0.9414\n",
            "Epoch 83/200\n",
            "14/14 [==============================] - 0s 14ms/step - loss: 0.1882 - accuracy: 0.9267 - val_loss: 0.1738 - val_accuracy: 0.9414\n",
            "Epoch 84/200\n",
            "14/14 [==============================] - 0s 24ms/step - loss: 0.1798 - accuracy: 0.9278 - val_loss: 0.1854 - val_accuracy: 0.9369\n",
            "Epoch 85/200\n",
            "14/14 [==============================] - 0s 19ms/step - loss: 0.1745 - accuracy: 0.9301 - val_loss: 0.2018 - val_accuracy: 0.9414\n",
            "Epoch 86/200\n",
            "14/14 [==============================] - 0s 27ms/step - loss: 0.1770 - accuracy: 0.9256 - val_loss: 0.1941 - val_accuracy: 0.9414\n",
            "Epoch 87/200\n",
            "14/14 [==============================] - 0s 31ms/step - loss: 0.1773 - accuracy: 0.9256 - val_loss: 0.1852 - val_accuracy: 0.9414\n",
            "Epoch 88/200\n",
            "14/14 [==============================] - 0s 27ms/step - loss: 0.1853 - accuracy: 0.9267 - val_loss: 0.1870 - val_accuracy: 0.9414\n",
            "Epoch 89/200\n",
            "14/14 [==============================] - 0s 21ms/step - loss: 0.1784 - accuracy: 0.9312 - val_loss: 0.1896 - val_accuracy: 0.9369\n",
            "Epoch 90/200\n",
            "14/14 [==============================] - 0s 26ms/step - loss: 0.1756 - accuracy: 0.9312 - val_loss: 0.1833 - val_accuracy: 0.9369\n",
            "Epoch 91/200\n",
            "14/14 [==============================] - 0s 29ms/step - loss: 0.1800 - accuracy: 0.9256 - val_loss: 0.1810 - val_accuracy: 0.9414\n",
            "Epoch 92/200\n",
            "14/14 [==============================] - 0s 14ms/step - loss: 0.1783 - accuracy: 0.9278 - val_loss: 0.1854 - val_accuracy: 0.9414\n",
            "Epoch 93/200\n",
            "14/14 [==============================] - 0s 23ms/step - loss: 0.1802 - accuracy: 0.9278 - val_loss: 0.1788 - val_accuracy: 0.9369\n",
            "Epoch 94/200\n",
            "14/14 [==============================] - 0s 30ms/step - loss: 0.1770 - accuracy: 0.9267 - val_loss: 0.1835 - val_accuracy: 0.9414\n",
            "Epoch 95/200\n",
            "14/14 [==============================] - 0s 27ms/step - loss: 0.1800 - accuracy: 0.9267 - val_loss: 0.1822 - val_accuracy: 0.9369\n",
            "Epoch 96/200\n",
            "14/14 [==============================] - 0s 17ms/step - loss: 0.1768 - accuracy: 0.9278 - val_loss: 0.1799 - val_accuracy: 0.9414\n",
            "Epoch 97/200\n",
            "14/14 [==============================] - 0s 30ms/step - loss: 0.1754 - accuracy: 0.9301 - val_loss: 0.1877 - val_accuracy: 0.9414\n",
            "Epoch 98/200\n",
            "14/14 [==============================] - 0s 15ms/step - loss: 0.1759 - accuracy: 0.9267 - val_loss: 0.1840 - val_accuracy: 0.9369\n",
            "Epoch 99/200\n",
            "14/14 [==============================] - 0s 14ms/step - loss: 0.1750 - accuracy: 0.9278 - val_loss: 0.1898 - val_accuracy: 0.9414\n",
            "Epoch 100/200\n",
            "14/14 [==============================] - 0s 23ms/step - loss: 0.1775 - accuracy: 0.9290 - val_loss: 0.2031 - val_accuracy: 0.9414\n",
            "Epoch 101/200\n",
            "14/14 [==============================] - 0s 11ms/step - loss: 0.1828 - accuracy: 0.9290 - val_loss: 0.1890 - val_accuracy: 0.9369\n",
            "Epoch 102/200\n",
            "14/14 [==============================] - 0s 12ms/step - loss: 0.1788 - accuracy: 0.9267 - val_loss: 0.1996 - val_accuracy: 0.9414\n",
            "Epoch 103/200\n",
            "14/14 [==============================] - 0s 19ms/step - loss: 0.1710 - accuracy: 0.9301 - val_loss: 0.1913 - val_accuracy: 0.9414\n",
            "Epoch 104/200\n",
            "14/14 [==============================] - 0s 16ms/step - loss: 0.1839 - accuracy: 0.9256 - val_loss: 0.1902 - val_accuracy: 0.9414\n",
            "Epoch 105/200\n",
            "14/14 [==============================] - 0s 16ms/step - loss: 0.1802 - accuracy: 0.9267 - val_loss: 0.1840 - val_accuracy: 0.9414\n",
            "Epoch 106/200\n",
            "14/14 [==============================] - 0s 16ms/step - loss: 0.1752 - accuracy: 0.9301 - val_loss: 0.1805 - val_accuracy: 0.9369\n",
            "Epoch 107/200\n",
            "14/14 [==============================] - 0s 24ms/step - loss: 0.1789 - accuracy: 0.9290 - val_loss: 0.1749 - val_accuracy: 0.9414\n",
            "Epoch 108/200\n",
            "14/14 [==============================] - 0s 17ms/step - loss: 0.1743 - accuracy: 0.9267 - val_loss: 0.1763 - val_accuracy: 0.9414\n",
            "Epoch 109/200\n",
            "14/14 [==============================] - 0s 26ms/step - loss: 0.1812 - accuracy: 0.9278 - val_loss: 0.1807 - val_accuracy: 0.9414\n",
            "Epoch 110/200\n",
            "14/14 [==============================] - 0s 25ms/step - loss: 0.1763 - accuracy: 0.9278 - val_loss: 0.1774 - val_accuracy: 0.9414\n",
            "Epoch 111/200\n",
            "14/14 [==============================] - 0s 16ms/step - loss: 0.1758 - accuracy: 0.9290 - val_loss: 0.1833 - val_accuracy: 0.9414\n",
            "Epoch 112/200\n",
            "14/14 [==============================] - 0s 16ms/step - loss: 0.1727 - accuracy: 0.9278 - val_loss: 0.1855 - val_accuracy: 0.9414\n",
            "Epoch 113/200\n",
            "14/14 [==============================] - 0s 18ms/step - loss: 0.1739 - accuracy: 0.9278 - val_loss: 0.1928 - val_accuracy: 0.9414\n",
            "Epoch 114/200\n",
            "14/14 [==============================] - 0s 19ms/step - loss: 0.1732 - accuracy: 0.9312 - val_loss: 0.1841 - val_accuracy: 0.9414\n",
            "Epoch 115/200\n",
            "14/14 [==============================] - 0s 18ms/step - loss: 0.1734 - accuracy: 0.9301 - val_loss: 0.1856 - val_accuracy: 0.9414\n",
            "Epoch 116/200\n",
            "14/14 [==============================] - 0s 24ms/step - loss: 0.1772 - accuracy: 0.9256 - val_loss: 0.1870 - val_accuracy: 0.9414\n",
            "Epoch 117/200\n",
            "14/14 [==============================] - 0s 18ms/step - loss: 0.1734 - accuracy: 0.9278 - val_loss: 0.1815 - val_accuracy: 0.9414\n",
            "Epoch 118/200\n",
            "14/14 [==============================] - 0s 13ms/step - loss: 0.1755 - accuracy: 0.9301 - val_loss: 0.1796 - val_accuracy: 0.9414\n",
            "Epoch 119/200\n",
            "14/14 [==============================] - 0s 13ms/step - loss: 0.1783 - accuracy: 0.9278 - val_loss: 0.1995 - val_accuracy: 0.9414\n",
            "Epoch 120/200\n",
            "14/14 [==============================] - 0s 16ms/step - loss: 0.1780 - accuracy: 0.9267 - val_loss: 0.1865 - val_accuracy: 0.9414\n",
            "Epoch 121/200\n",
            "14/14 [==============================] - 0s 11ms/step - loss: 0.1795 - accuracy: 0.9278 - val_loss: 0.1872 - val_accuracy: 0.9414\n",
            "Epoch 122/200\n",
            "14/14 [==============================] - 0s 19ms/step - loss: 0.1746 - accuracy: 0.9278 - val_loss: 0.1960 - val_accuracy: 0.9414\n",
            "Epoch 123/200\n",
            "14/14 [==============================] - 0s 13ms/step - loss: 0.1727 - accuracy: 0.9278 - val_loss: 0.1878 - val_accuracy: 0.9414\n",
            "Epoch 124/200\n",
            "14/14 [==============================] - 0s 19ms/step - loss: 0.1809 - accuracy: 0.9267 - val_loss: 0.1990 - val_accuracy: 0.9414\n",
            "Epoch 125/200\n",
            "14/14 [==============================] - 0s 12ms/step - loss: 0.1794 - accuracy: 0.9267 - val_loss: 0.1802 - val_accuracy: 0.9414\n",
            "Epoch 126/200\n",
            "14/14 [==============================] - 0s 16ms/step - loss: 0.1675 - accuracy: 0.9312 - val_loss: 0.1733 - val_accuracy: 0.9414\n",
            "Epoch 127/200\n",
            "14/14 [==============================] - 0s 19ms/step - loss: 0.1696 - accuracy: 0.9301 - val_loss: 0.1777 - val_accuracy: 0.9414\n",
            "Epoch 128/200\n",
            "14/14 [==============================] - 0s 18ms/step - loss: 0.1768 - accuracy: 0.9278 - val_loss: 0.1767 - val_accuracy: 0.9414\n",
            "Epoch 129/200\n",
            "14/14 [==============================] - 0s 15ms/step - loss: 0.1732 - accuracy: 0.9290 - val_loss: 0.1795 - val_accuracy: 0.9414\n",
            "Epoch 130/200\n",
            "14/14 [==============================] - 0s 12ms/step - loss: 0.1760 - accuracy: 0.9278 - val_loss: 0.1808 - val_accuracy: 0.9414\n",
            "Epoch 131/200\n",
            "14/14 [==============================] - 0s 11ms/step - loss: 0.1753 - accuracy: 0.9278 - val_loss: 0.1728 - val_accuracy: 0.9414\n",
            "Epoch 132/200\n",
            "14/14 [==============================] - 0s 13ms/step - loss: 0.1714 - accuracy: 0.9290 - val_loss: 0.1722 - val_accuracy: 0.9414\n",
            "Epoch 133/200\n",
            "14/14 [==============================] - 0s 12ms/step - loss: 0.1714 - accuracy: 0.9278 - val_loss: 0.1719 - val_accuracy: 0.9414\n",
            "Epoch 134/200\n",
            "14/14 [==============================] - 0s 23ms/step - loss: 0.1708 - accuracy: 0.9278 - val_loss: 0.1723 - val_accuracy: 0.9369\n",
            "Epoch 135/200\n",
            "14/14 [==============================] - 0s 27ms/step - loss: 0.1799 - accuracy: 0.9278 - val_loss: 0.1748 - val_accuracy: 0.9414\n",
            "Epoch 136/200\n",
            "14/14 [==============================] - 0s 22ms/step - loss: 0.1754 - accuracy: 0.9290 - val_loss: 0.1767 - val_accuracy: 0.9369\n",
            "Epoch 137/200\n",
            "14/14 [==============================] - 0s 35ms/step - loss: 0.1753 - accuracy: 0.9278 - val_loss: 0.1778 - val_accuracy: 0.9414\n",
            "Epoch 138/200\n",
            "14/14 [==============================] - 1s 39ms/step - loss: 0.1744 - accuracy: 0.9278 - val_loss: 0.1745 - val_accuracy: 0.9369\n",
            "Epoch 139/200\n",
            "14/14 [==============================] - 1s 43ms/step - loss: 0.1695 - accuracy: 0.9324 - val_loss: 0.1839 - val_accuracy: 0.9414\n",
            "Epoch 140/200\n",
            "14/14 [==============================] - 0s 27ms/step - loss: 0.1750 - accuracy: 0.9278 - val_loss: 0.1728 - val_accuracy: 0.9414\n",
            "Epoch 141/200\n",
            "14/14 [==============================] - 0s 23ms/step - loss: 0.1687 - accuracy: 0.9290 - val_loss: 0.1812 - val_accuracy: 0.9414\n",
            "Epoch 142/200\n",
            "14/14 [==============================] - 0s 27ms/step - loss: 0.1718 - accuracy: 0.9278 - val_loss: 0.1902 - val_accuracy: 0.9414\n",
            "Epoch 143/200\n",
            "14/14 [==============================] - 0s 16ms/step - loss: 0.1722 - accuracy: 0.9267 - val_loss: 0.1833 - val_accuracy: 0.9414\n",
            "Epoch 144/200\n",
            "14/14 [==============================] - 0s 16ms/step - loss: 0.1717 - accuracy: 0.9301 - val_loss: 0.1828 - val_accuracy: 0.9414\n",
            "Epoch 145/200\n",
            "14/14 [==============================] - 0s 16ms/step - loss: 0.1760 - accuracy: 0.9267 - val_loss: 0.1820 - val_accuracy: 0.9414\n",
            "Epoch 146/200\n",
            "14/14 [==============================] - 0s 24ms/step - loss: 0.1744 - accuracy: 0.9267 - val_loss: 0.1903 - val_accuracy: 0.9414\n",
            "Epoch 147/200\n",
            "14/14 [==============================] - 0s 15ms/step - loss: 0.1768 - accuracy: 0.9278 - val_loss: 0.1862 - val_accuracy: 0.9414\n",
            "Epoch 148/200\n",
            "14/14 [==============================] - 0s 12ms/step - loss: 0.1742 - accuracy: 0.9278 - val_loss: 0.1796 - val_accuracy: 0.9414\n",
            "Epoch 149/200\n",
            "14/14 [==============================] - 0s 12ms/step - loss: 0.1761 - accuracy: 0.9267 - val_loss: 0.1762 - val_accuracy: 0.9414\n",
            "Epoch 150/200\n",
            "14/14 [==============================] - 0s 26ms/step - loss: 0.1750 - accuracy: 0.9278 - val_loss: 0.1697 - val_accuracy: 0.9369\n",
            "Epoch 151/200\n",
            "14/14 [==============================] - 0s 24ms/step - loss: 0.1786 - accuracy: 0.9267 - val_loss: 0.1661 - val_accuracy: 0.9414\n",
            "Epoch 152/200\n",
            "14/14 [==============================] - 0s 24ms/step - loss: 0.1762 - accuracy: 0.9278 - val_loss: 0.1696 - val_accuracy: 0.9369\n",
            "Epoch 153/200\n",
            "14/14 [==============================] - 0s 25ms/step - loss: 0.1787 - accuracy: 0.9267 - val_loss: 0.1709 - val_accuracy: 0.9369\n",
            "Epoch 154/200\n",
            "14/14 [==============================] - 0s 18ms/step - loss: 0.1735 - accuracy: 0.9278 - val_loss: 0.1712 - val_accuracy: 0.9369\n",
            "Epoch 155/200\n",
            "14/14 [==============================] - 0s 12ms/step - loss: 0.1744 - accuracy: 0.9278 - val_loss: 0.1687 - val_accuracy: 0.9369\n",
            "Epoch 156/200\n",
            "14/14 [==============================] - 0s 11ms/step - loss: 0.1727 - accuracy: 0.9278 - val_loss: 0.1777 - val_accuracy: 0.9414\n",
            "Epoch 157/200\n",
            "14/14 [==============================] - 0s 10ms/step - loss: 0.1782 - accuracy: 0.9278 - val_loss: 0.1853 - val_accuracy: 0.9414\n",
            "Epoch 158/200\n",
            "14/14 [==============================] - 0s 12ms/step - loss: 0.1714 - accuracy: 0.9278 - val_loss: 0.1938 - val_accuracy: 0.9414\n",
            "Epoch 159/200\n",
            "14/14 [==============================] - 0s 16ms/step - loss: 0.1753 - accuracy: 0.9278 - val_loss: 0.1847 - val_accuracy: 0.9414\n",
            "Epoch 160/200\n",
            "14/14 [==============================] - 0s 20ms/step - loss: 0.1736 - accuracy: 0.9278 - val_loss: 0.1895 - val_accuracy: 0.9414\n",
            "Epoch 161/200\n",
            "14/14 [==============================] - 0s 14ms/step - loss: 0.1684 - accuracy: 0.9278 - val_loss: 0.1961 - val_accuracy: 0.9414\n",
            "Epoch 162/200\n",
            "14/14 [==============================] - 0s 16ms/step - loss: 0.1753 - accuracy: 0.9278 - val_loss: 0.1942 - val_accuracy: 0.9414\n",
            "Epoch 163/200\n",
            "14/14 [==============================] - 0s 20ms/step - loss: 0.1741 - accuracy: 0.9278 - val_loss: 0.1839 - val_accuracy: 0.9414\n",
            "Epoch 164/200\n",
            "14/14 [==============================] - 0s 10ms/step - loss: 0.1740 - accuracy: 0.9290 - val_loss: 0.1772 - val_accuracy: 0.9414\n",
            "Epoch 165/200\n",
            "14/14 [==============================] - 0s 11ms/step - loss: 0.1753 - accuracy: 0.9278 - val_loss: 0.1870 - val_accuracy: 0.9414\n",
            "Epoch 166/200\n",
            "14/14 [==============================] - 0s 11ms/step - loss: 0.1685 - accuracy: 0.9278 - val_loss: 0.1869 - val_accuracy: 0.9414\n",
            "Epoch 167/200\n",
            "14/14 [==============================] - 0s 11ms/step - loss: 0.1664 - accuracy: 0.9278 - val_loss: 0.1826 - val_accuracy: 0.9414\n",
            "Epoch 168/200\n",
            "14/14 [==============================] - 0s 10ms/step - loss: 0.1727 - accuracy: 0.9278 - val_loss: 0.1783 - val_accuracy: 0.9414\n",
            "Epoch 169/200\n",
            "14/14 [==============================] - 0s 10ms/step - loss: 0.1717 - accuracy: 0.9267 - val_loss: 0.1849 - val_accuracy: 0.9414\n",
            "Epoch 170/200\n",
            "14/14 [==============================] - 0s 10ms/step - loss: 0.1693 - accuracy: 0.9278 - val_loss: 0.1800 - val_accuracy: 0.9414\n",
            "Epoch 171/200\n",
            "14/14 [==============================] - 0s 10ms/step - loss: 0.1751 - accuracy: 0.9278 - val_loss: 0.1815 - val_accuracy: 0.9414\n",
            "Epoch 172/200\n",
            "14/14 [==============================] - 0s 10ms/step - loss: 0.1704 - accuracy: 0.9278 - val_loss: 0.1772 - val_accuracy: 0.9414\n",
            "Epoch 173/200\n",
            "14/14 [==============================] - 0s 10ms/step - loss: 0.1771 - accuracy: 0.9267 - val_loss: 0.1770 - val_accuracy: 0.9369\n",
            "Epoch 174/200\n",
            "14/14 [==============================] - 0s 9ms/step - loss: 0.1755 - accuracy: 0.9278 - val_loss: 0.1796 - val_accuracy: 0.9369\n",
            "Epoch 175/200\n",
            "14/14 [==============================] - 0s 9ms/step - loss: 0.1705 - accuracy: 0.9278 - val_loss: 0.1763 - val_accuracy: 0.9414\n",
            "Epoch 176/200\n",
            "14/14 [==============================] - 0s 10ms/step - loss: 0.1744 - accuracy: 0.9278 - val_loss: 0.1751 - val_accuracy: 0.9414\n",
            "Epoch 177/200\n",
            "14/14 [==============================] - 0s 9ms/step - loss: 0.1711 - accuracy: 0.9290 - val_loss: 0.1780 - val_accuracy: 0.9369\n",
            "Epoch 178/200\n",
            "14/14 [==============================] - 0s 10ms/step - loss: 0.1704 - accuracy: 0.9267 - val_loss: 0.1820 - val_accuracy: 0.9369\n",
            "Epoch 179/200\n",
            "14/14 [==============================] - 0s 9ms/step - loss: 0.1717 - accuracy: 0.9278 - val_loss: 0.1899 - val_accuracy: 0.9414\n",
            "Epoch 180/200\n",
            "14/14 [==============================] - 0s 10ms/step - loss: 0.1709 - accuracy: 0.9278 - val_loss: 0.1982 - val_accuracy: 0.9414\n",
            "Epoch 181/200\n",
            "14/14 [==============================] - 0s 9ms/step - loss: 0.1705 - accuracy: 0.9267 - val_loss: 0.1873 - val_accuracy: 0.9369\n",
            "Epoch 182/200\n",
            "14/14 [==============================] - 0s 8ms/step - loss: 0.1721 - accuracy: 0.9267 - val_loss: 0.1877 - val_accuracy: 0.9414\n",
            "Epoch 183/200\n",
            "14/14 [==============================] - 0s 10ms/step - loss: 0.1632 - accuracy: 0.9301 - val_loss: 0.1918 - val_accuracy: 0.9414\n",
            "Epoch 184/200\n",
            "14/14 [==============================] - 0s 10ms/step - loss: 0.1684 - accuracy: 0.9290 - val_loss: 0.1941 - val_accuracy: 0.9414\n",
            "Epoch 185/200\n",
            "14/14 [==============================] - 0s 9ms/step - loss: 0.1706 - accuracy: 0.9278 - val_loss: 0.1952 - val_accuracy: 0.9414\n",
            "Epoch 186/200\n",
            "14/14 [==============================] - 0s 10ms/step - loss: 0.1671 - accuracy: 0.9278 - val_loss: 0.2004 - val_accuracy: 0.9414\n",
            "Epoch 187/200\n",
            "14/14 [==============================] - 0s 9ms/step - loss: 0.1701 - accuracy: 0.9267 - val_loss: 0.1947 - val_accuracy: 0.9414\n",
            "Epoch 188/200\n",
            "14/14 [==============================] - 0s 9ms/step - loss: 0.1700 - accuracy: 0.9278 - val_loss: 0.1979 - val_accuracy: 0.9414\n",
            "Epoch 189/200\n",
            "14/14 [==============================] - 0s 8ms/step - loss: 0.1707 - accuracy: 0.9290 - val_loss: 0.1899 - val_accuracy: 0.9414\n",
            "Epoch 190/200\n",
            "14/14 [==============================] - 0s 8ms/step - loss: 0.1695 - accuracy: 0.9278 - val_loss: 0.2010 - val_accuracy: 0.9414\n",
            "Epoch 191/200\n",
            "14/14 [==============================] - 0s 9ms/step - loss: 0.1741 - accuracy: 0.9278 - val_loss: 0.1867 - val_accuracy: 0.9414\n",
            "Epoch 192/200\n",
            "14/14 [==============================] - 0s 8ms/step - loss: 0.1716 - accuracy: 0.9267 - val_loss: 0.1877 - val_accuracy: 0.9414\n",
            "Epoch 193/200\n",
            "14/14 [==============================] - 0s 7ms/step - loss: 0.1705 - accuracy: 0.9267 - val_loss: 0.1840 - val_accuracy: 0.9414\n",
            "Epoch 194/200\n",
            "14/14 [==============================] - 0s 9ms/step - loss: 0.1684 - accuracy: 0.9278 - val_loss: 0.1892 - val_accuracy: 0.9414\n",
            "Epoch 195/200\n",
            "14/14 [==============================] - 0s 8ms/step - loss: 0.1724 - accuracy: 0.9290 - val_loss: 0.1854 - val_accuracy: 0.9414\n",
            "Epoch 196/200\n",
            "14/14 [==============================] - 0s 12ms/step - loss: 0.1689 - accuracy: 0.9267 - val_loss: 0.1904 - val_accuracy: 0.9414\n",
            "Epoch 197/200\n",
            "14/14 [==============================] - 0s 12ms/step - loss: 0.1733 - accuracy: 0.9256 - val_loss: 0.1835 - val_accuracy: 0.9414\n",
            "Epoch 198/200\n",
            "14/14 [==============================] - 0s 12ms/step - loss: 0.1671 - accuracy: 0.9301 - val_loss: 0.1819 - val_accuracy: 0.9414\n",
            "Epoch 199/200\n",
            "14/14 [==============================] - 0s 10ms/step - loss: 0.1683 - accuracy: 0.9290 - val_loss: 0.1849 - val_accuracy: 0.9369\n",
            "Epoch 200/200\n",
            "14/14 [==============================] - 0s 11ms/step - loss: 0.1698 - accuracy: 0.9267 - val_loss: 0.1907 - val_accuracy: 0.9414\n",
            "Model: \"sequential_1\"\n",
            "_________________________________________________________________\n",
            " Layer (type)                Output Shape              Param #   \n",
            "=================================================================\n",
            " dense_9 (Dense)             (None, 32)                704       \n",
            "                                                                 \n",
            " batch_normalization_3 (Batc  (None, 32)               128       \n",
            " hNormalization)                                                 \n",
            "                                                                 \n",
            " dense_10 (Dense)            (None, 32)                1056      \n",
            "                                                                 \n",
            " batch_normalization_4 (Batc  (None, 32)               128       \n",
            " hNormalization)                                                 \n",
            "                                                                 \n",
            " dense_11 (Dense)            (None, 64)                2112      \n",
            "                                                                 \n",
            " dense_12 (Dense)            (None, 64)                4160      \n",
            "                                                                 \n",
            " dense_13 (Dense)            (None, 64)                4160      \n",
            "                                                                 \n",
            " dense_14 (Dense)            (None, 64)                4160      \n",
            "                                                                 \n",
            " batch_normalization_5 (Batc  (None, 64)               256       \n",
            " hNormalization)                                                 \n",
            "                                                                 \n",
            " dense_15 (Dense)            (None, 32)                2080      \n",
            "                                                                 \n",
            " dense_16 (Dense)            (None, 32)                1056      \n",
            "                                                                 \n",
            " dense_17 (Dense)            (None, 1)                 33        \n",
            "                                                                 \n",
            "=================================================================\n",
            "Total params: 20,033\n",
            "Trainable params: 19,777\n",
            "Non-trainable params: 256\n",
            "_________________________________________________________________\n"
          ]
        }
      ]
    },
    {
      "cell_type": "code",
      "source": [
        "y_pred = model.predict(test_X)\n",
        "y_pred = (y_pred >= 0.65).astype(int).ravel()\n",
        "\n",
        "\n",
        "\n",
        "from sklearn.metrics import accuracy_score\n",
        "from sklearn.metrics import precision_score\n",
        "from sklearn.metrics import recall_score\n",
        "from sklearn.metrics import f1_score, roc_auc_score\n",
        "\n",
        "\n",
        "svm_accuracy = accuracy_score(test_Y, y_pred)\n",
        "print('Accuracy (ANN +SVM): ', \"%.2f\" % (svm_accuracy*100))\n",
        "precision = precision_score(test_Y, y_pred)\n",
        "print('Precision: %f' % precision)\n",
        "\n",
        "recall = recall_score(test_Y, y_pred)\n",
        "print('Recall: %f' % recall)\n",
        "\n",
        "f1 = f1_score(test_Y, y_pred)\n",
        "print('F1 score: %f' % f1)\n",
        "\n",
        "print('R2 Score:', roc_auc_score(test_Y,y_pred))\n"
      ],
      "metadata": {
        "id": "kZX0iRTWmUhF",
        "colab": {
          "base_uri": "https://localhost:8080/"
        },
        "outputId": "3910b139-dc06-4c1c-e9f8-6562698fdbcf"
      },
      "execution_count": null,
      "outputs": [
        {
          "output_type": "stream",
          "name": "stdout",
          "text": [
            "7/7 [==============================] - 0s 3ms/step\n",
            "Accuracy (ANN +SVM):  94.14\n",
            "Precision: 0.333333\n",
            "Recall: 0.083333\n",
            "F1 score: 0.133333\n",
            "R2 Score: 0.5369047619047619\n"
          ]
        }
      ]
    },
    {
      "cell_type": "markdown",
      "source": [
        "Results"
      ],
      "metadata": {
        "id": "2Og_FcpYrlHP"
      }
    },
    {
      "cell_type": "code",
      "source": [
        "\n",
        "from sklearn import metrics\n",
        "\n",
        "\n",
        "fig = plt.pyplot.plot(figsize=(10,5))\n",
        "plt.pyplot.bar(test_Y,y_pred)\n",
        "\n",
        "plt.pyplot.plot(test_Y,test_Y,'r')\n",
        "\n"
      ],
      "metadata": {
        "id": "GEOHbZr8m0ov",
        "colab": {
          "base_uri": "https://localhost:8080/",
          "height": 448
        },
        "outputId": "cd8772fe-7615-4f68-a636-3d35e769cbf7"
      },
      "execution_count": null,
      "outputs": [
        {
          "output_type": "execute_result",
          "data": {
            "text/plain": [
              "[<matplotlib.lines.Line2D at 0x7fe7a9b85750>]"
            ]
          },
          "metadata": {},
          "execution_count": 21
        },
        {
          "output_type": "display_data",
          "data": {
            "text/plain": [
              "<Figure size 640x480 with 1 Axes>"
            ],
            "image/png": "[encoded data removed]"
          },
          "metadata": {}
        }
      ]
    },
    {
      "cell_type": "code",
      "source": [
        "from sklearn.metrics import accuracy_score\n",
        "from sklearn.metrics import precision_score\n",
        "from sklearn.metrics import recall_score\n",
        "from sklearn.metrics import f1_score\n",
        "\n",
        "\n",
        "y_pred = model.predict(test_X)\n",
        "y_pred = (y_pred >= 0.6).astype(int).ravel()\n",
        "\n",
        "\n",
        "accuracy = accuracy_score(test_Y, y_pred)\n",
        "print('Accuracy: %f' % accuracy)\n",
        "\n",
        "precision = precision_score(test_Y, y_pred)\n",
        "print('Precision: %f' % precision)\n",
        "\n",
        "recall = recall_score(test_Y, y_pred)\n",
        "print('Recall: %f' % recall)\n",
        "\n",
        "f1 = f1_score(test_Y, y_pred)\n",
        "print('F1 score: %f' % f1)"
      ],
      "metadata": {
        "id": "RxZBqkR4nJM1",
        "colab": {
          "base_uri": "https://localhost:8080/"
        },
        "outputId": "3896f1b2-c2ca-4aa2-a142-1c27fbac28dd"
      },
      "execution_count": null,
      "outputs": [
        {
          "output_type": "stream",
          "name": "stdout",
          "text": [
            "7/7 [==============================] - 0s 6ms/step\n",
            "Accuracy: 0.941441\n",
            "Precision: 0.333333\n",
            "Recall: 0.083333\n",
            "F1 score: 0.133333\n"
          ]
        }
      ]
    },
    {
      "cell_type": "code",
      "source": [
        "from imblearn.over_sampling import SMOTE"
      ],
      "metadata": {
        "id": "ddnYdMCfnXt9"
      },
      "execution_count": null,
      "outputs": []
    },
    {
      "cell_type": "markdown",
      "source": [
        "Decision_Tree"
      ],
      "metadata": {
        "id": "wq6XQ7FmtdCF"
      }
    },
    {
      "cell_type": "code",
      "source": [
        "import pandas as pd\n",
        "import numpy as np\n",
        "import matplotlib.pyplot as plt\n",
        "%matplotlib inline\n",
        "\n",
        "\n",
        "\n",
        "df.defects=df['defects']*1\n",
        "\n",
        "X = df.iloc[:,:-1]\n",
        "y = df.iloc[:,-1]\n",
        "\n",
        "\n",
        "smote = SMOTE(sampling_strategy='minority')\n",
        "X_sm , y_sm = smote.fit_resample(X,y)\n",
        "\n",
        "from sklearn.model_selection import train_test_split\n",
        "X_train,X_test,y_train,y_test = train_test_split(X_sm,y_sm,test_size=0.2,random_state=0)\n",
        "\n",
        "from sklearn.preprocessing import StandardScaler\n",
        "SC = StandardScaler()\n",
        "X_train = SC.fit_transform(X_train)\n",
        "X_test = SC.transform(X_test)"
      ],
      "metadata": {
        "id": "S5ICQADYoDWO"
      },
      "execution_count": null,
      "outputs": []
    },
    {
      "cell_type": "code",
      "source": [
        "from sklearn.tree import DecisionTreeClassifier"
      ],
      "metadata": {
        "id": "8QQQWXabpu9v"
      },
      "execution_count": null,
      "outputs": []
    },
    {
      "cell_type": "code",
      "source": [
        "classifier = DecisionTreeClassifier(max_depth=3,criterion='entropy',random_state=0)\n",
        "classifier.fit(X_train, y_train)"
      ],
      "metadata": {
        "id": "OTqK9buKp4Ch",
        "colab": {
          "base_uri": "https://localhost:8080/",
          "height": 74
        },
        "outputId": "f6b19c09-f2a4-4502-efbb-30c37326ec57"
      },
      "execution_count": null,
      "outputs": [
        {
          "output_type": "execute_result",
          "data": {
            "text/plain": [
              "DecisionTreeClassifier(criterion='entropy', max_depth=3, random_state=0)"
            ],
            "text/html": [
              "<style>#sk-container-id-1 {color: black;background-color: white;}#sk-container-id-1 pre{padding: 0;}#sk-container-id-1 div.sk-toggleable {background-color: white;}#sk-container-id-1 label.sk-toggleable__label {cursor: pointer;display: block;width: 100%;margin-bottom: 0;padding: 0.3em;box-sizing: border-box;text-align: center;}#sk-container-id-1 label.sk-toggleable__label-arrow:before {content: \"▸\";float: left;margin-right: 0.25em;color: #696969;}#sk-container-id-1 label.sk-toggleable__label-arrow:hover:before {color: black;}#sk-container-id-1 div.sk-estimator:hover label.sk-toggleable__label-arrow:before {color: black;}#sk-container-id-1 div.sk-toggleable__content {max-height: 0;max-width: 0;overflow: hidden;text-align: left;background-color: #f0f8ff;}#sk-container-id-1 div.sk-toggleable__content pre {margin: 0.2em;color: black;border-radius: 0.25em;background-color: #f0f8ff;}#sk-container-id-1 input.sk-toggleable__control:checked~div.sk-toggleable__content {max-height: 200px;max-width: 100%;overflow: auto;}#sk-container-id-1 input.sk-toggleable__control:checked~label.sk-toggleable__label-arrow:before {content: \"▾\";}#sk-container-id-1 div.sk-estimator input.sk-toggleable__control:checked~label.sk-toggleable__label {background-color: #d4ebff;}#sk-container-id-1 div.sk-label input.sk-toggleable__control:checked~label.sk-toggleable__label {background-color: #d4ebff;}#sk-container-id-1 input.sk-hidden--visually {border: 0;clip: rect(1px 1px 1px 1px);clip: rect(1px, 1px, 1px, 1px);height: 1px;margin: -1px;overflow: hidden;padding: 0;position: absolute;width: 1px;}#sk-container-id-1 div.sk-estimator {font-family: monospace;background-color: #f0f8ff;border: 1px dotted black;border-radius: 0.25em;box-sizing: border-box;margin-bottom: 0.5em;}#sk-container-id-1 div.sk-estimator:hover {background-color: #d4ebff;}#sk-container-id-1 div.sk-parallel-item::after {content: \"\";width: 100%;border-bottom: 1px solid gray;flex-grow: 1;}#sk-container-id-1 div.sk-label:hover label.sk-toggleable__label {background-color: #d4ebff;}#sk-container-id-1 div.sk-serial::before {content: \"\";position: absolute;border-left: 1px solid gray;box-sizing: border-box;top: 0;bottom: 0;left: 50%;z-index: 0;}#sk-container-id-1 div.sk-serial {display: flex;flex-direction: column;align-items: center;background-color: white;padding-right: 0.2em;padding-left: 0.2em;position: relative;}#sk-container-id-1 div.sk-item {position: relative;z-index: 1;}#sk-container-id-1 div.sk-parallel {display: flex;align-items: stretch;justify-content: center;background-color: white;position: relative;}#sk-container-id-1 div.sk-item::before, #sk-container-id-1 div.sk-parallel-item::before {content: \"\";position: absolute;border-left: 1px solid gray;box-sizing: border-box;top: 0;bottom: 0;left: 50%;z-index: -1;}#sk-container-id-1 div.sk-parallel-item {display: flex;flex-direction: column;z-index: 1;position: relative;background-color: white;}#sk-container-id-1 div.sk-parallel-item:first-child::after {align-self: flex-end;width: 50%;}#sk-container-id-1 div.sk-parallel-item:last-child::after {align-self: flex-start;width: 50%;}#sk-container-id-1 div.sk-parallel-item:only-child::after {width: 0;}#sk-container-id-1 div.sk-dashed-wrapped {border: 1px dashed gray;margin: 0 0.4em 0.5em 0.4em;box-sizing: border-box;padding-bottom: 0.4em;background-color: white;}#sk-container-id-1 div.sk-label label {font-family: monospace;font-weight: bold;display: inline-block;line-height: 1.2em;}#sk-container-id-1 div.sk-label-container {text-align: center;}#sk-container-id-1 div.sk-container {/* jupyter's `normalize.less` sets `[hidden] { display: none; }` but bootstrap.min.css set `[hidden] { display: none !important; }` so we also need the `!important` here to be able to override the default hidden behavior on the sphinx rendered scikit-learn.org. See: https://github.com/scikit-learn/scikit-learn/issues/21755 */display: inline-block !important;position: relative;}#sk-container-id-1 div.sk-text-repr-fallback {display: none;}</style><div id=\"sk-container-id-1\" class=\"sk-top-container\"><div class=\"sk-text-repr-fallback\"><pre>DecisionTreeClassifier(criterion=&#x27;entropy&#x27;, max_depth=3, random_state=0)</pre><b>In a Jupyter environment, please rerun this cell to show the HTML representation or trust the notebook. <br />On GitHub, the HTML representation is unable to render, please try loading this page with nbviewer.org.</b></div><div class=\"sk-container\" hidden><div class=\"sk-item\"><div class=\"sk-estimator sk-toggleable\"><input class=\"sk-toggleable__control sk-hidden--visually\" id=\"sk-estimator-id-1\" type=\"checkbox\" checked><label for=\"sk-estimator-id-1\" class=\"sk-toggleable__label sk-toggleable__label-arrow\">DecisionTreeClassifier</label><div class=\"sk-toggleable__content\"><pre>DecisionTreeClassifier(criterion=&#x27;entropy&#x27;, max_depth=3, random_state=0)</pre></div></div></div></div></div>"
            ]
          },
          "metadata": {},
          "execution_count": 26
        }
      ]
    },
    {
      "cell_type": "code",
      "source": [
        "DecisionTreeClassifier(criterion='entropy', max_depth=3, random_state=0)"
      ],
      "metadata": {
        "id": "_bP3vkBGqBQt",
        "colab": {
          "base_uri": "https://localhost:8080/",
          "height": 74
        },
        "outputId": "0d37cd25-a535-4675-f51c-1cff75c986e2"
      },
      "execution_count": null,
      "outputs": [
        {
          "output_type": "execute_result",
          "data": {
            "text/plain": [
              "DecisionTreeClassifier(criterion='entropy', max_depth=3, random_state=0)"
            ],
            "text/html": [
              "<style>#sk-container-id-2 {color: black;background-color: white;}#sk-container-id-2 pre{padding: 0;}#sk-container-id-2 div.sk-toggleable {background-color: white;}#sk-container-id-2 label.sk-toggleable__label {cursor: pointer;display: block;width: 100%;margin-bottom: 0;padding: 0.3em;box-sizing: border-box;text-align: center;}#sk-container-id-2 label.sk-toggleable__label-arrow:before {content: \"▸\";float: left;margin-right: 0.25em;color: #696969;}#sk-container-id-2 label.sk-toggleable__label-arrow:hover:before {color: black;}#sk-container-id-2 div.sk-estimator:hover label.sk-toggleable__label-arrow:before {color: black;}#sk-container-id-2 div.sk-toggleable__content {max-height: 0;max-width: 0;overflow: hidden;text-align: left;background-color: #f0f8ff;}#sk-container-id-2 div.sk-toggleable__content pre {margin: 0.2em;color: black;border-radius: 0.25em;background-color: #f0f8ff;}#sk-container-id-2 input.sk-toggleable__control:checked~div.sk-toggleable__content {max-height: 200px;max-width: 100%;overflow: auto;}#sk-container-id-2 input.sk-toggleable__control:checked~label.sk-toggleable__label-arrow:before {content: \"▾\";}#sk-container-id-2 div.sk-estimator input.sk-toggleable__control:checked~label.sk-toggleable__label {background-color: #d4ebff;}#sk-container-id-2 div.sk-label input.sk-toggleable__control:checked~label.sk-toggleable__label {background-color: #d4ebff;}#sk-container-id-2 input.sk-hidden--visually {border: 0;clip: rect(1px 1px 1px 1px);clip: rect(1px, 1px, 1px, 1px);height: 1px;margin: -1px;overflow: hidden;padding: 0;position: absolute;width: 1px;}#sk-container-id-2 div.sk-estimator {font-family: monospace;background-color: #f0f8ff;border: 1px dotted black;border-radius: 0.25em;box-sizing: border-box;margin-bottom: 0.5em;}#sk-container-id-2 div.sk-estimator:hover {background-color: #d4ebff;}#sk-container-id-2 div.sk-parallel-item::after {content: \"\";width: 100%;border-bottom: 1px solid gray;flex-grow: 1;}#sk-container-id-2 div.sk-label:hover label.sk-toggleable__label {background-color: #d4ebff;}#sk-container-id-2 div.sk-serial::before {content: \"\";position: absolute;border-left: 1px solid gray;box-sizing: border-box;top: 0;bottom: 0;left: 50%;z-index: 0;}#sk-container-id-2 div.sk-serial {display: flex;flex-direction: column;align-items: center;background-color: white;padding-right: 0.2em;padding-left: 0.2em;position: relative;}#sk-container-id-2 div.sk-item {position: relative;z-index: 1;}#sk-container-id-2 div.sk-parallel {display: flex;align-items: stretch;justify-content: center;background-color: white;position: relative;}#sk-container-id-2 div.sk-item::before, #sk-container-id-2 div.sk-parallel-item::before {content: \"\";position: absolute;border-left: 1px solid gray;box-sizing: border-box;top: 0;bottom: 0;left: 50%;z-index: -1;}#sk-container-id-2 div.sk-parallel-item {display: flex;flex-direction: column;z-index: 1;position: relative;background-color: white;}#sk-container-id-2 div.sk-parallel-item:first-child::after {align-self: flex-end;width: 50%;}#sk-container-id-2 div.sk-parallel-item:last-child::after {align-self: flex-start;width: 50%;}#sk-container-id-2 div.sk-parallel-item:only-child::after {width: 0;}#sk-container-id-2 div.sk-dashed-wrapped {border: 1px dashed gray;margin: 0 0.4em 0.5em 0.4em;box-sizing: border-box;padding-bottom: 0.4em;background-color: white;}#sk-container-id-2 div.sk-label label {font-family: monospace;font-weight: bold;display: inline-block;line-height: 1.2em;}#sk-container-id-2 div.sk-label-container {text-align: center;}#sk-container-id-2 div.sk-container {/* jupyter's `normalize.less` sets `[hidden] { display: none; }` but bootstrap.min.css set `[hidden] { display: none !important; }` so we also need the `!important` here to be able to override the default hidden behavior on the sphinx rendered scikit-learn.org. See: https://github.com/scikit-learn/scikit-learn/issues/21755 */display: inline-block !important;position: relative;}#sk-container-id-2 div.sk-text-repr-fallback {display: none;}</style><div id=\"sk-container-id-2\" class=\"sk-top-container\"><div class=\"sk-text-repr-fallback\"><pre>DecisionTreeClassifier(criterion=&#x27;entropy&#x27;, max_depth=3, random_state=0)</pre><b>In a Jupyter environment, please rerun this cell to show the HTML representation or trust the notebook. <br />On GitHub, the HTML representation is unable to render, please try loading this page with nbviewer.org.</b></div><div class=\"sk-container\" hidden><div class=\"sk-item\"><div class=\"sk-estimator sk-toggleable\"><input class=\"sk-toggleable__control sk-hidden--visually\" id=\"sk-estimator-id-2\" type=\"checkbox\" checked><label for=\"sk-estimator-id-2\" class=\"sk-toggleable__label sk-toggleable__label-arrow\">DecisionTreeClassifier</label><div class=\"sk-toggleable__content\"><pre>DecisionTreeClassifier(criterion=&#x27;entropy&#x27;, max_depth=3, random_state=0)</pre></div></div></div></div></div>"
            ]
          },
          "metadata": {},
          "execution_count": 27
        }
      ]
    },
    {
      "cell_type": "code",
      "source": [
        "DT_pred = classifier.predict(X_test)"
      ],
      "metadata": {
        "id": "_jhLwIuhqDAU"
      },
      "execution_count": null,
      "outputs": []
    },
    {
      "cell_type": "code",
      "source": [
        "from sklearn.metrics import accuracy_score\n",
        "from sklearn.metrics import confusion_matrix\n",
        "from sklearn.metrics import f1_score\n",
        "from sklearn.metrics import roc_auc_score\n",
        "from sklearn.metrics import precision_score\n",
        "from sklearn.metrics import recall_score\n",
        "\n",
        "cm = confusion_matrix(y_test, DT_pred)\n",
        "cm"
      ],
      "metadata": {
        "id": "xkOXqgicqGws",
        "colab": {
          "base_uri": "https://localhost:8080/"
        },
        "outputId": "f78d7405-6ea3-4b31-8c43-135d85e72cec"
      },
      "execution_count": null,
      "outputs": [
        {
          "output_type": "execute_result",
          "data": {
            "text/plain": [
              "array([[158,  40],\n",
              "       [ 34, 181]])"
            ]
          },
          "metadata": {},
          "execution_count": 29
        }
      ]
    },
    {
      "cell_type": "code",
      "source": [
        "print('Accuracy score:',accuracy_score(y_test,DT_pred))\n",
        "print('F1_score:',f1_score(y_test,DT_pred))\n",
        "print('precision_score:',precision_score(y_test,DT_pred))\n",
        "print('recall_score:',recall_score(y_test,DT_pred))"
      ],
      "metadata": {
        "id": "UXMDHYyjqM-O",
        "colab": {
          "base_uri": "https://localhost:8080/"
        },
        "outputId": "a3e7b347-9c9e-41ab-ce63-b0c79ceeb1f6"
      },
      "execution_count": null,
      "outputs": [
        {
          "output_type": "stream",
          "name": "stdout",
          "text": [
            "Accuracy score: 0.8208232445520581\n",
            "F1_score: 0.8302752293577982\n",
            "precision_score: 0.8190045248868778\n",
            "recall_score: 0.8418604651162791\n"
          ]
        }
      ]
    },
    {
      "cell_type": "markdown",
      "source": [
        "Gussian_Naive_Bias"
      ],
      "metadata": {
        "id": "JvV9fiRutpXu"
      }
    },
    {
      "cell_type": "code",
      "source": [
        "from sklearn.naive_bayes import GaussianNB\n",
        "classifier = GaussianNB()\n",
        "classifier.fit(X_train, y_train)"
      ],
      "metadata": {
        "id": "assgKU3htokb",
        "colab": {
          "base_uri": "https://localhost:8080/",
          "height": 74
        },
        "outputId": "b8e4365f-20e3-472f-aff9-3fad7ca44a01"
      },
      "execution_count": null,
      "outputs": [
        {
          "output_type": "execute_result",
          "data": {
            "text/plain": [
              "GaussianNB()"
            ],
            "text/html": [
              "<style>#sk-container-id-3 {color: black;background-color: white;}#sk-container-id-3 pre{padding: 0;}#sk-container-id-3 div.sk-toggleable {background-color: white;}#sk-container-id-3 label.sk-toggleable__label {cursor: pointer;display: block;width: 100%;margin-bottom: 0;padding: 0.3em;box-sizing: border-box;text-align: center;}#sk-container-id-3 label.sk-toggleable__label-arrow:before {content: \"▸\";float: left;margin-right: 0.25em;color: #696969;}#sk-container-id-3 label.sk-toggleable__label-arrow:hover:before {color: black;}#sk-container-id-3 div.sk-estimator:hover label.sk-toggleable__label-arrow:before {color: black;}#sk-container-id-3 div.sk-toggleable__content {max-height: 0;max-width: 0;overflow: hidden;text-align: left;background-color: #f0f8ff;}#sk-container-id-3 div.sk-toggleable__content pre {margin: 0.2em;color: black;border-radius: 0.25em;background-color: #f0f8ff;}#sk-container-id-3 input.sk-toggleable__control:checked~div.sk-toggleable__content {max-height: 200px;max-width: 100%;overflow: auto;}#sk-container-id-3 input.sk-toggleable__control:checked~label.sk-toggleable__label-arrow:before {content: \"▾\";}#sk-container-id-3 div.sk-estimator input.sk-toggleable__control:checked~label.sk-toggleable__label {background-color: #d4ebff;}#sk-container-id-3 div.sk-label input.sk-toggleable__control:checked~label.sk-toggleable__label {background-color: #d4ebff;}#sk-container-id-3 input.sk-hidden--visually {border: 0;clip: rect(1px 1px 1px 1px);clip: rect(1px, 1px, 1px, 1px);height: 1px;margin: -1px;overflow: hidden;padding: 0;position: absolute;width: 1px;}#sk-container-id-3 div.sk-estimator {font-family: monospace;background-color: #f0f8ff;border: 1px dotted black;border-radius: 0.25em;box-sizing: border-box;margin-bottom: 0.5em;}#sk-container-id-3 div.sk-estimator:hover {background-color: #d4ebff;}#sk-container-id-3 div.sk-parallel-item::after {content: \"\";width: 100%;border-bottom: 1px solid gray;flex-grow: 1;}#sk-container-id-3 div.sk-label:hover label.sk-toggleable__label {background-color: #d4ebff;}#sk-container-id-3 div.sk-serial::before {content: \"\";position: absolute;border-left: 1px solid gray;box-sizing: border-box;top: 0;bottom: 0;left: 50%;z-index: 0;}#sk-container-id-3 div.sk-serial {display: flex;flex-direction: column;align-items: center;background-color: white;padding-right: 0.2em;padding-left: 0.2em;position: relative;}#sk-container-id-3 div.sk-item {position: relative;z-index: 1;}#sk-container-id-3 div.sk-parallel {display: flex;align-items: stretch;justify-content: center;background-color: white;position: relative;}#sk-container-id-3 div.sk-item::before, #sk-container-id-3 div.sk-parallel-item::before {content: \"\";position: absolute;border-left: 1px solid gray;box-sizing: border-box;top: 0;bottom: 0;left: 50%;z-index: -1;}#sk-container-id-3 div.sk-parallel-item {display: flex;flex-direction: column;z-index: 1;position: relative;background-color: white;}#sk-container-id-3 div.sk-parallel-item:first-child::after {align-self: flex-end;width: 50%;}#sk-container-id-3 div.sk-parallel-item:last-child::after {align-self: flex-start;width: 50%;}#sk-container-id-3 div.sk-parallel-item:only-child::after {width: 0;}#sk-container-id-3 div.sk-dashed-wrapped {border: 1px dashed gray;margin: 0 0.4em 0.5em 0.4em;box-sizing: border-box;padding-bottom: 0.4em;background-color: white;}#sk-container-id-3 div.sk-label label {font-family: monospace;font-weight: bold;display: inline-block;line-height: 1.2em;}#sk-container-id-3 div.sk-label-container {text-align: center;}#sk-container-id-3 div.sk-container {/* jupyter's `normalize.less` sets `[hidden] { display: none; }` but bootstrap.min.css set `[hidden] { display: none !important; }` so we also need the `!important` here to be able to override the default hidden behavior on the sphinx rendered scikit-learn.org. See: https://github.com/scikit-learn/scikit-learn/issues/21755 */display: inline-block !important;position: relative;}#sk-container-id-3 div.sk-text-repr-fallback {display: none;}</style><div id=\"sk-container-id-3\" class=\"sk-top-container\"><div class=\"sk-text-repr-fallback\"><pre>GaussianNB()</pre><b>In a Jupyter environment, please rerun this cell to show the HTML representation or trust the notebook. <br />On GitHub, the HTML representation is unable to render, please try loading this page with nbviewer.org.</b></div><div class=\"sk-container\" hidden><div class=\"sk-item\"><div class=\"sk-estimator sk-toggleable\"><input class=\"sk-toggleable__control sk-hidden--visually\" id=\"sk-estimator-id-3\" type=\"checkbox\" checked><label for=\"sk-estimator-id-3\" class=\"sk-toggleable__label sk-toggleable__label-arrow\">GaussianNB</label><div class=\"sk-toggleable__content\"><pre>GaussianNB()</pre></div></div></div></div></div>"
            ]
          },
          "metadata": {},
          "execution_count": 31
        }
      ]
    },
    {
      "cell_type": "code",
      "source": [
        "GaussianNB()"
      ],
      "metadata": {
        "id": "Y6eh3W6rvLHe",
        "colab": {
          "base_uri": "https://localhost:8080/",
          "height": 74
        },
        "outputId": "c0c91194-2aa2-4d44-f828-2fe562b757a6"
      },
      "execution_count": null,
      "outputs": [
        {
          "output_type": "execute_result",
          "data": {
            "text/plain": [
              "GaussianNB()"
            ],
            "text/html": [
              "<style>#sk-container-id-4 {color: black;background-color: white;}#sk-container-id-4 pre{padding: 0;}#sk-container-id-4 div.sk-toggleable {background-color: white;}#sk-container-id-4 label.sk-toggleable__label {cursor: pointer;display: block;width: 100%;margin-bottom: 0;padding: 0.3em;box-sizing: border-box;text-align: center;}#sk-container-id-4 label.sk-toggleable__label-arrow:before {content: \"▸\";float: left;margin-right: 0.25em;color: #696969;}#sk-container-id-4 label.sk-toggleable__label-arrow:hover:before {color: black;}#sk-container-id-4 div.sk-estimator:hover label.sk-toggleable__label-arrow:before {color: black;}#sk-container-id-4 div.sk-toggleable__content {max-height: 0;max-width: 0;overflow: hidden;text-align: left;background-color: #f0f8ff;}#sk-container-id-4 div.sk-toggleable__content pre {margin: 0.2em;color: black;border-radius: 0.25em;background-color: #f0f8ff;}#sk-container-id-4 input.sk-toggleable__control:checked~div.sk-toggleable__content {max-height: 200px;max-width: 100%;overflow: auto;}#sk-container-id-4 input.sk-toggleable__control:checked~label.sk-toggleable__label-arrow:before {content: \"▾\";}#sk-container-id-4 div.sk-estimator input.sk-toggleable__control:checked~label.sk-toggleable__label {background-color: #d4ebff;}#sk-container-id-4 div.sk-label input.sk-toggleable__control:checked~label.sk-toggleable__label {background-color: #d4ebff;}#sk-container-id-4 input.sk-hidden--visually {border: 0;clip: rect(1px 1px 1px 1px);clip: rect(1px, 1px, 1px, 1px);height: 1px;margin: -1px;overflow: hidden;padding: 0;position: absolute;width: 1px;}#sk-container-id-4 div.sk-estimator {font-family: monospace;background-color: #f0f8ff;border: 1px dotted black;border-radius: 0.25em;box-sizing: border-box;margin-bottom: 0.5em;}#sk-container-id-4 div.sk-estimator:hover {background-color: #d4ebff;}#sk-container-id-4 div.sk-parallel-item::after {content: \"\";width: 100%;border-bottom: 1px solid gray;flex-grow: 1;}#sk-container-id-4 div.sk-label:hover label.sk-toggleable__label {background-color: #d4ebff;}#sk-container-id-4 div.sk-serial::before {content: \"\";position: absolute;border-left: 1px solid gray;box-sizing: border-box;top: 0;bottom: 0;left: 50%;z-index: 0;}#sk-container-id-4 div.sk-serial {display: flex;flex-direction: column;align-items: center;background-color: white;padding-right: 0.2em;padding-left: 0.2em;position: relative;}#sk-container-id-4 div.sk-item {position: relative;z-index: 1;}#sk-container-id-4 div.sk-parallel {display: flex;align-items: stretch;justify-content: center;background-color: white;position: relative;}#sk-container-id-4 div.sk-item::before, #sk-container-id-4 div.sk-parallel-item::before {content: \"\";position: absolute;border-left: 1px solid gray;box-sizing: border-box;top: 0;bottom: 0;left: 50%;z-index: -1;}#sk-container-id-4 div.sk-parallel-item {display: flex;flex-direction: column;z-index: 1;position: relative;background-color: white;}#sk-container-id-4 div.sk-parallel-item:first-child::after {align-self: flex-end;width: 50%;}#sk-container-id-4 div.sk-parallel-item:last-child::after {align-self: flex-start;width: 50%;}#sk-container-id-4 div.sk-parallel-item:only-child::after {width: 0;}#sk-container-id-4 div.sk-dashed-wrapped {border: 1px dashed gray;margin: 0 0.4em 0.5em 0.4em;box-sizing: border-box;padding-bottom: 0.4em;background-color: white;}#sk-container-id-4 div.sk-label label {font-family: monospace;font-weight: bold;display: inline-block;line-height: 1.2em;}#sk-container-id-4 div.sk-label-container {text-align: center;}#sk-container-id-4 div.sk-container {/* jupyter's `normalize.less` sets `[hidden] { display: none; }` but bootstrap.min.css set `[hidden] { display: none !important; }` so we also need the `!important` here to be able to override the default hidden behavior on the sphinx rendered scikit-learn.org. See: https://github.com/scikit-learn/scikit-learn/issues/21755 */display: inline-block !important;position: relative;}#sk-container-id-4 div.sk-text-repr-fallback {display: none;}</style><div id=\"sk-container-id-4\" class=\"sk-top-container\"><div class=\"sk-text-repr-fallback\"><pre>GaussianNB()</pre><b>In a Jupyter environment, please rerun this cell to show the HTML representation or trust the notebook. <br />On GitHub, the HTML representation is unable to render, please try loading this page with nbviewer.org.</b></div><div class=\"sk-container\" hidden><div class=\"sk-item\"><div class=\"sk-estimator sk-toggleable\"><input class=\"sk-toggleable__control sk-hidden--visually\" id=\"sk-estimator-id-4\" type=\"checkbox\" checked><label for=\"sk-estimator-id-4\" class=\"sk-toggleable__label sk-toggleable__label-arrow\">GaussianNB</label><div class=\"sk-toggleable__content\"><pre>GaussianNB()</pre></div></div></div></div></div>"
            ]
          },
          "metadata": {},
          "execution_count": 32
        }
      ]
    },
    {
      "cell_type": "code",
      "source": [
        "GNB_pred = classifier.predict(X_test)"
      ],
      "metadata": {
        "id": "itgY6qKMvRXk"
      },
      "execution_count": null,
      "outputs": []
    },
    {
      "cell_type": "code",
      "source": [
        "from sklearn.metrics import accuracy_score\n",
        "from sklearn.metrics import confusion_matrix\n",
        "from sklearn.metrics import f1_score\n",
        "from sklearn.metrics import roc_auc_score\n",
        "from sklearn.metrics import precision_score\n",
        "from sklearn.metrics import recall_score\n",
        "\n",
        "CM = confusion_matrix(y_test,GNB_pred)\n",
        "CM"
      ],
      "metadata": {
        "id": "tKIOjxt9vXOb",
        "colab": {
          "base_uri": "https://localhost:8080/"
        },
        "outputId": "14a62853-eebb-4a3e-b39b-914bc2fd0880"
      },
      "execution_count": null,
      "outputs": [
        {
          "output_type": "execute_result",
          "data": {
            "text/plain": [
              "array([[178,  20],\n",
              "       [141,  74]])"
            ]
          },
          "metadata": {},
          "execution_count": 34
        }
      ]
    },
    {
      "cell_type": "code",
      "source": [
        "print('Accuracy score:',accuracy_score(y_test,GNB_pred))\n",
        "print('F1_score:',f1_score(y_test,GNB_pred))\n",
        "print('precision_score:',precision_score(y_test,GNB_pred))\n",
        "print('recall_score:',recall_score(y_test,GNB_pred))"
      ],
      "metadata": {
        "id": "L0s9-Urevb5o",
        "colab": {
          "base_uri": "https://localhost:8080/"
        },
        "outputId": "16b398b5-c9ba-4d4d-bce0-d2cb81c63499"
      },
      "execution_count": null,
      "outputs": [
        {
          "output_type": "stream",
          "name": "stdout",
          "text": [
            "Accuracy score: 0.6101694915254238\n",
            "F1_score: 0.4789644012944984\n",
            "precision_score: 0.7872340425531915\n",
            "recall_score: 0.34418604651162793\n"
          ]
        }
      ]
    },
    {
      "cell_type": "markdown",
      "source": [
        "KNN"
      ],
      "metadata": {
        "id": "Zp6o3MmZvzCA"
      }
    },
    {
      "cell_type": "code",
      "source": [
        "from sklearn.neighbors import KNeighborsClassifier\n",
        "knn = KNeighborsClassifier(n_neighbors=2)\n",
        "knn.fit(X_train,y_train)\n",
        "\n",
        "KNN_pred = knn.predict(X_test)"
      ],
      "metadata": {
        "id": "UBMAC_WivxM0"
      },
      "execution_count": null,
      "outputs": []
    },
    {
      "cell_type": "code",
      "source": [
        "from sklearn.metrics import accuracy_score\n",
        "from sklearn.metrics import confusion_matrix\n",
        "from sklearn.metrics import f1_score\n",
        "from sklearn.metrics import roc_auc_score\n",
        "from sklearn.metrics import precision_score\n",
        "from sklearn.metrics import recall_score\n",
        "\n",
        "CM = confusion_matrix(y_test,KNN_pred)\n",
        "CM"
      ],
      "metadata": {
        "id": "Bh92EbqIxGiV",
        "colab": {
          "base_uri": "https://localhost:8080/"
        },
        "outputId": "78c49065-901d-4427-8e6d-1c294cb02617"
      },
      "execution_count": null,
      "outputs": [
        {
          "output_type": "execute_result",
          "data": {
            "text/plain": [
              "array([[182,  16],\n",
              "       [  7, 208]])"
            ]
          },
          "metadata": {},
          "execution_count": 37
        }
      ]
    },
    {
      "cell_type": "code",
      "source": [
        "print('Accuracy score:',accuracy_score(y_test,KNN_pred))\n",
        "print('F1_score:',f1_score(y_test,KNN_pred))\n",
        "print('precision_score:',precision_score(y_test,KNN_pred))\n",
        "print('recall_score:',recall_score(y_test,KNN_pred))"
      ],
      "metadata": {
        "id": "CK-8GPDjxRoF",
        "colab": {
          "base_uri": "https://localhost:8080/"
        },
        "outputId": "9aba8df3-9d77-452c-a7fc-2f6d63b2ccaf"
      },
      "execution_count": null,
      "outputs": [
        {
          "output_type": "stream",
          "name": "stdout",
          "text": [
            "Accuracy score: 0.9443099273607748\n",
            "F1_score: 0.9476082004555809\n",
            "precision_score: 0.9285714285714286\n",
            "recall_score: 0.9674418604651163\n"
          ]
        }
      ]
    },
    {
      "cell_type": "code",
      "source": [
        "error_rate = []\n",
        "\n",
        "for i in range(1,40):\n",
        "\n",
        "    knn = KNeighborsClassifier(n_neighbors=i)\n",
        "    knn.fit(X_train,y_train)\n",
        "    pred_i = knn.predict(X_test)\n",
        "    error_rate.append(np.mean(pred_i != y_test))"
      ],
      "metadata": {
        "id": "bFkMX3sixiyC"
      },
      "execution_count": null,
      "outputs": []
    },
    {
      "cell_type": "code",
      "source": [
        "plt.figure(figsize=(10,6))\n",
        "plt.plot(range(1,40),error_rate,color='blue', linestyle='dashed', marker='o',\n",
        "         markerfacecolor='red', markersize=10)\n",
        "plt.title('Error Rate vs. K Value')\n",
        "plt.xlabel('K')\n",
        "plt.ylabel('Error Rate')"
      ],
      "metadata": {
        "id": "XvK3wh2ixszW",
        "colab": {
          "base_uri": "https://localhost:8080/",
          "height": 582
        },
        "outputId": "c8fa4f13-8efa-43dc-fe9a-a56ec0133a45"
      },
      "execution_count": null,
      "outputs": [
        {
          "output_type": "execute_result",
          "data": {
            "text/plain": [
              "Text(0, 0.5, 'Error Rate')"
            ]
          },
          "metadata": {},
          "execution_count": 40
        },
        {
          "output_type": "display_data",
          "data": {
            "text/plain": [
              "<Figure size 1000x600 with 1 Axes>"
            ],
            "image/png": "[encoded data removed]"
          },
          "metadata": {}
        }
      ]
    },
    {
      "cell_type": "markdown",
      "source": [
        "Support_Vector_Classification"
      ],
      "metadata": {
        "id": "z5ZVhgH_yNBr"
      }
    },
    {
      "cell_type": "code",
      "source": [
        "from imblearn.over_sampling import SMOTE\n",
        "smote = SMOTE(sampling_strategy='minority')\n",
        "X_sm , y_sm = smote.fit_resample(X,y)"
      ],
      "metadata": {
        "id": "UywDOSjexycU"
      },
      "execution_count": null,
      "outputs": []
    },
    {
      "cell_type": "code",
      "source": [
        "from sklearn.svm import SVC\n",
        "classifier = SVC(kernel = 'linear', random_state = 0)\n",
        "classifier.fit(X_train, y_train)"
      ],
      "metadata": {
        "id": "z0XDVpKCyWRT",
        "colab": {
          "base_uri": "https://localhost:8080/",
          "height": 74
        },
        "outputId": "b8634c80-1747-4a0f-84ba-234f71333bbd"
      },
      "execution_count": null,
      "outputs": [
        {
          "output_type": "execute_result",
          "data": {
            "text/plain": [
              "SVC(kernel='linear', random_state=0)"
            ],
            "text/html": [
              "<style>#sk-container-id-5 {color: black;background-color: white;}#sk-container-id-5 pre{padding: 0;}#sk-container-id-5 div.sk-toggleable {background-color: white;}#sk-container-id-5 label.sk-toggleable__label {cursor: pointer;display: block;width: 100%;margin-bottom: 0;padding: 0.3em;box-sizing: border-box;text-align: center;}#sk-container-id-5 label.sk-toggleable__label-arrow:before {content: \"▸\";float: left;margin-right: 0.25em;color: #696969;}#sk-container-id-5 label.sk-toggleable__label-arrow:hover:before {color: black;}#sk-container-id-5 div.sk-estimator:hover label.sk-toggleable__label-arrow:before {color: black;}#sk-container-id-5 div.sk-toggleable__content {max-height: 0;max-width: 0;overflow: hidden;text-align: left;background-color: #f0f8ff;}#sk-container-id-5 div.sk-toggleable__content pre {margin: 0.2em;color: black;border-radius: 0.25em;background-color: #f0f8ff;}#sk-container-id-5 input.sk-toggleable__control:checked~div.sk-toggleable__content {max-height: 200px;max-width: 100%;overflow: auto;}#sk-container-id-5 input.sk-toggleable__control:checked~label.sk-toggleable__label-arrow:before {content: \"▾\";}#sk-container-id-5 div.sk-estimator input.sk-toggleable__control:checked~label.sk-toggleable__label {background-color: #d4ebff;}#sk-container-id-5 div.sk-label input.sk-toggleable__control:checked~label.sk-toggleable__label {background-color: #d4ebff;}#sk-container-id-5 input.sk-hidden--visually {border: 0;clip: rect(1px 1px 1px 1px);clip: rect(1px, 1px, 1px, 1px);height: 1px;margin: -1px;overflow: hidden;padding: 0;position: absolute;width: 1px;}#sk-container-id-5 div.sk-estimator {font-family: monospace;background-color: #f0f8ff;border: 1px dotted black;border-radius: 0.25em;box-sizing: border-box;margin-bottom: 0.5em;}#sk-container-id-5 div.sk-estimator:hover {background-color: #d4ebff;}#sk-container-id-5 div.sk-parallel-item::after {content: \"\";width: 100%;border-bottom: 1px solid gray;flex-grow: 1;}#sk-container-id-5 div.sk-label:hover label.sk-toggleable__label {background-color: #d4ebff;}#sk-container-id-5 div.sk-serial::before {content: \"\";position: absolute;border-left: 1px solid gray;box-sizing: border-box;top: 0;bottom: 0;left: 50%;z-index: 0;}#sk-container-id-5 div.sk-serial {display: flex;flex-direction: column;align-items: center;background-color: white;padding-right: 0.2em;padding-left: 0.2em;position: relative;}#sk-container-id-5 div.sk-item {position: relative;z-index: 1;}#sk-container-id-5 div.sk-parallel {display: flex;align-items: stretch;justify-content: center;background-color: white;position: relative;}#sk-container-id-5 div.sk-item::before, #sk-container-id-5 div.sk-parallel-item::before {content: \"\";position: absolute;border-left: 1px solid gray;box-sizing: border-box;top: 0;bottom: 0;left: 50%;z-index: -1;}#sk-container-id-5 div.sk-parallel-item {display: flex;flex-direction: column;z-index: 1;position: relative;background-color: white;}#sk-container-id-5 div.sk-parallel-item:first-child::after {align-self: flex-end;width: 50%;}#sk-container-id-5 div.sk-parallel-item:last-child::after {align-self: flex-start;width: 50%;}#sk-container-id-5 div.sk-parallel-item:only-child::after {width: 0;}#sk-container-id-5 div.sk-dashed-wrapped {border: 1px dashed gray;margin: 0 0.4em 0.5em 0.4em;box-sizing: border-box;padding-bottom: 0.4em;background-color: white;}#sk-container-id-5 div.sk-label label {font-family: monospace;font-weight: bold;display: inline-block;line-height: 1.2em;}#sk-container-id-5 div.sk-label-container {text-align: center;}#sk-container-id-5 div.sk-container {/* jupyter's `normalize.less` sets `[hidden] { display: none; }` but bootstrap.min.css set `[hidden] { display: none !important; }` so we also need the `!important` here to be able to override the default hidden behavior on the sphinx rendered scikit-learn.org. See: https://github.com/scikit-learn/scikit-learn/issues/21755 */display: inline-block !important;position: relative;}#sk-container-id-5 div.sk-text-repr-fallback {display: none;}</style><div id=\"sk-container-id-5\" class=\"sk-top-container\"><div class=\"sk-text-repr-fallback\"><pre>SVC(kernel=&#x27;linear&#x27;, random_state=0)</pre><b>In a Jupyter environment, please rerun this cell to show the HTML representation or trust the notebook. <br />On GitHub, the HTML representation is unable to render, please try loading this page with nbviewer.org.</b></div><div class=\"sk-container\" hidden><div class=\"sk-item\"><div class=\"sk-estimator sk-toggleable\"><input class=\"sk-toggleable__control sk-hidden--visually\" id=\"sk-estimator-id-5\" type=\"checkbox\" checked><label for=\"sk-estimator-id-5\" class=\"sk-toggleable__label sk-toggleable__label-arrow\">SVC</label><div class=\"sk-toggleable__content\"><pre>SVC(kernel=&#x27;linear&#x27;, random_state=0)</pre></div></div></div></div></div>"
            ]
          },
          "metadata": {},
          "execution_count": 42
        }
      ]
    },
    {
      "cell_type": "code",
      "source": [
        "SVC_pred= classifier.predict(X_test)"
      ],
      "metadata": {
        "id": "rKonQ-8lynGz"
      },
      "execution_count": null,
      "outputs": []
    },
    {
      "cell_type": "code",
      "source": [
        "CM = confusion_matrix(y_test,SVC_pred)\n",
        "CM"
      ],
      "metadata": {
        "id": "7ziBWRTfysWW",
        "colab": {
          "base_uri": "https://localhost:8080/"
        },
        "outputId": "bd55b913-fcbe-46b7-cca5-e83c6dc0b47d"
      },
      "execution_count": null,
      "outputs": [
        {
          "output_type": "execute_result",
          "data": {
            "text/plain": [
              "array([[155,  43],\n",
              "       [ 27, 188]])"
            ]
          },
          "metadata": {},
          "execution_count": 44
        }
      ]
    },
    {
      "cell_type": "code",
      "source": [
        "print('Accuracy score:',accuracy_score(y_test,SVC_pred))\n",
        "print('F1_score:',f1_score(y_test,SVC_pred))\n",
        "print('precision_score:',precision_score(y_test,SVC_pred))\n",
        "print('recall_score:',recall_score(y_test,SVC_pred))"
      ],
      "metadata": {
        "id": "hG6c5fXPy3ON",
        "colab": {
          "base_uri": "https://localhost:8080/"
        },
        "outputId": "4224d76b-aa09-42f8-e890-463fcbf8d682"
      },
      "execution_count": null,
      "outputs": [
        {
          "output_type": "stream",
          "name": "stdout",
          "text": [
            "Accuracy score: 0.8305084745762712\n",
            "F1_score: 0.8430493273542601\n",
            "precision_score: 0.8138528138528138\n",
            "recall_score: 0.8744186046511628\n"
          ]
        }
      ]
    },
    {
      "cell_type": "markdown",
      "source": [
        "# **SMOTE**"
      ],
      "metadata": {
        "id": "LNUqqAeCJZqg"
      }
    },
    {
      "cell_type": "markdown",
      "source": [
        "***SVM***"
      ],
      "metadata": {
        "id": "6HknV6EdKnpX"
      }
    },
    {
      "cell_type": "code",
      "source": [
        "import numpy as np\n",
        "from sklearn.model_selection import train_test_split\n",
        "from sklearn.preprocessing import StandardScaler\n",
        "from imblearn.over_sampling import SMOTE\n",
        "from sklearn.svm import SVC\n",
        "from sklearn.metrics import accuracy_score, precision_score, recall_score\n",
        "\n",
        "\n",
        "X_train, X_test, y_train, y_test = train_test_split(X, y, test_size=0.2, random_state=42)\n",
        "\n",
        "\n",
        "scaler = StandardScaler()\n",
        "X_train_scaled = scaler.fit_transform(X_train)\n",
        "\n",
        "\n",
        "smote = SMOTE(random_state=42)\n",
        "X_train_resampled, y_train_resampled = smote.fit_resample(X_train_scaled, y_train)\n",
        "\n",
        "\n",
        "svm_model = SVC()\n",
        "svm_model.fit(X_train_resampled, y_train_resampled)\n",
        "\n",
        "\n",
        "X_test_scaled = scaler.transform(X_test)\n",
        "\n",
        "\n",
        "y_pred = svm_model.predict(X_test_scaled)\n",
        "\n",
        "#  Calculate accuracy, precision, and recall\n",
        "accuracy = accuracy_score(y_test, y_pred)\n",
        "precision = precision_score(y_test, y_pred)\n",
        "recall = recall_score(y_test, y_pred)\n",
        "g_mean = np.sqrt(recall * (1 - precision))\n",
        "\n",
        "print(\"Accuracy:\", accuracy)\n",
        "print(\"Precision:\", precision)\n",
        "print(\"Recall:\", recall)\n",
        "print(\"G-Mean:\", g_mean)"
      ],
      "metadata": {
        "id": "v3GzhoEXJYmY",
        "colab": {
          "base_uri": "https://localhost:8080/"
        },
        "outputId": "42d707ee-db06-4393-9570-975f99993ff5"
      },
      "execution_count": null,
      "outputs": [
        {
          "output_type": "stream",
          "name": "stdout",
          "text": [
            "Accuracy: 0.7252252252252253\n",
            "Precision: 0.2\n",
            "Recall: 0.7368421052631579\n",
            "G-Mean: 0.7677718959499145\n"
          ]
        }
      ]
    },
    {
      "cell_type": "markdown",
      "source": [
        "***DECISION*** TREE"
      ],
      "metadata": {
        "id": "V9LV84O9Jwi0"
      }
    },
    {
      "cell_type": "code",
      "source": [
        "import numpy as np\n",
        "from sklearn.model_selection import train_test_split\n",
        "from sklearn.preprocessing import StandardScaler\n",
        "from imblearn.over_sampling import SMOTE\n",
        "from sklearn.tree import DecisionTreeClassifier\n",
        "from sklearn.metrics import accuracy_score, precision_score\n",
        "\n",
        "\n",
        "X_train, X_test, y_train, y_test = train_test_split(X, y, test_size=0.2, random_state=42)\n",
        "\n",
        "\n",
        "scaler = StandardScaler()\n",
        "X_train_scaled = scaler.fit_transform(X_train)\n",
        "\n",
        "\n",
        "smote = SMOTE(random_state=42)\n",
        "X_train_resampled, y_train_resampled = smote.fit_resample(X_train_scaled, y_train)\n",
        "\n",
        "\n",
        "dt_model = DecisionTreeClassifier()\n",
        "dt_model.fit(X_train_resampled, y_train_resampled)\n",
        "\n",
        "\n",
        "X_test_scaled = scaler.transform(X_test)\n",
        "\n",
        "\n",
        "y_pred = dt_model.predict(X_test_scaled)\n",
        "\n",
        "\n",
        "accuracy = accuracy_score(y_test, y_pred)\n",
        "precision = precision_score(y_test, y_pred)\n",
        "recall = recall_score(y_test, y_pred)\n",
        "g_mean = np.sqrt(recall * (1 - precision))\n",
        "\n",
        "print(\"Accuracy:\", accuracy)\n",
        "print(\"Precision:\", precision)\n",
        "print(\"Recall:\", recall)\n",
        "print(\"G-Mean:\", g_mean)"
      ],
      "metadata": {
        "id": "T4BHYWrvKCTt",
        "colab": {
          "base_uri": "https://localhost:8080/"
        },
        "outputId": "5c357c51-472f-4944-98ec-6b28de131377"
      },
      "execution_count": null,
      "outputs": [
        {
          "output_type": "stream",
          "name": "stdout",
          "text": [
            "Accuracy: 0.8873873873873874\n",
            "Precision: 0.36363636363636365\n",
            "Recall: 0.42105263157894735\n",
            "G-Mean: 0.517631706652575\n"
          ]
        }
      ]
    },
    {
      "cell_type": "markdown",
      "source": [
        "#KNN"
      ],
      "metadata": {
        "id": "yTpvHJvkKQTg"
      }
    },
    {
      "cell_type": "code",
      "source": [
        "import numpy as np\n",
        "from sklearn.model_selection import train_test_split\n",
        "from sklearn.preprocessing import StandardScaler\n",
        "from imblearn.over_sampling import SMOTE\n",
        "from sklearn.neighbors import KNeighborsClassifier\n",
        "from sklearn.metrics import accuracy_score, precision_score\n",
        "\n",
        "\n",
        "X_train, X_test, y_train, y_test = train_test_split(X, y, test_size=0.2, random_state=42)\n",
        "\n",
        "\n",
        "scaler = StandardScaler()\n",
        "X_train_scaled = scaler.fit_transform(X_train)\n",
        "\n",
        "\n",
        "smote = SMOTE(random_state=42)\n",
        "X_train_resampled, y_train_resampled = smote.fit_resample(X_train_scaled, y_train)\n",
        "\n",
        "\n",
        "knn_model = KNeighborsClassifier()\n",
        "knn_model.fit(X_train_resampled, y_train_resampled)\n",
        "\n",
        "\n",
        "X_test_scaled = scaler.transform(X_test)\n",
        "\n",
        "\n",
        "y_pred = knn_model.predict(X_test_scaled)\n",
        "\n",
        "\n",
        "accuracy = accuracy_score(y_test, y_pred)\n",
        "precision = precision_score(y_test, y_pred)\n",
        "recall = recall_score(y_test, y_pred)\n",
        "g_mean = np.sqrt(recall * (1 - precision))\n",
        "\n",
        "print(\"Accuracy:\", accuracy)\n",
        "print(\"Precision:\", precision)\n",
        "print(\"Recall:\", recall)\n",
        "print(\"G-Mean:\", g_mean)"
      ],
      "metadata": {
        "id": "y0uJFi3NKPjd",
        "colab": {
          "base_uri": "https://localhost:8080/"
        },
        "outputId": "165bde87-228c-454e-894c-547770c8d267"
      },
      "execution_count": null,
      "outputs": [
        {
          "output_type": "stream",
          "name": "stdout",
          "text": [
            "Accuracy: 0.8108108108108109\n",
            "Precision: 0.2553191489361702\n",
            "Recall: 0.631578947368421\n",
            "G-Mean: 0.6858022659924021\n"
          ]
        }
      ]
    },
    {
      "cell_type": "markdown",
      "source": [
        "#MLP CLASSIFIER"
      ],
      "metadata": {
        "id": "sIxFQqwHLcw_"
      }
    },
    {
      "cell_type": "code",
      "source": [
        "import numpy as np\n",
        "from sklearn.model_selection import train_test_split\n",
        "from sklearn.preprocessing import StandardScaler\n",
        "from imblearn.over_sampling import SMOTE\n",
        "from sklearn.neural_network import MLPClassifier\n",
        "from sklearn.metrics import accuracy_score, precision_score, recall_score\n",
        "\n",
        "\n",
        "X_train, X_test, y_train, y_test = train_test_split(X, y, test_size=0.2, random_state=42)\n",
        "\n",
        "\n",
        "scaler = StandardScaler()\n",
        "X_train_scaled = scaler.fit_transform(X_train)\n",
        "\n",
        "\n",
        "smote = SMOTE(random_state=42)\n",
        "X_train_resampled, y_train_resampled = smote.fit_resample(X_train_scaled, y_train)\n",
        "\n",
        "\n",
        "mlp_model = MLPClassifier()\n",
        "mlp_model.fit(X_train_resampled, y_train_resampled)\n",
        "\n",
        "\n",
        "X_test_scaled = scaler.transform(X_test)\n",
        "\n",
        "\n",
        "y_pred = mlp_model.predict(X_test_scaled)\n",
        "\n",
        "\n",
        "accuracy = accuracy_score(y_test, y_pred)\n",
        "precision = precision_score(y_test, y_pred)\n",
        "recall = recall_score(y_test, y_pred)\n",
        "g_mean = np.sqrt(recall * (1 - precision))\n",
        "\n",
        "print(\"Accuracy:\", accuracy)\n",
        "print(\"Precision:\", precision)\n",
        "print(\"Recall:\", recall)\n",
        "print(\"G-Mean:\", g_mean)"
      ],
      "metadata": {
        "id": "9L0s5cX3LfyN",
        "colab": {
          "base_uri": "https://localhost:8080/"
        },
        "outputId": "e0b0f9a3-afeb-4ff4-a0a5-e0590912ea8e"
      },
      "execution_count": null,
      "outputs": [
        {
          "output_type": "stream",
          "name": "stdout",
          "text": [
            "Accuracy: 0.8648648648648649\n",
            "Precision: 0.3225806451612903\n",
            "Recall: 0.5263157894736842\n",
            "G-Mean: 0.5971067765037417\n"
          ]
        },
        {
          "output_type": "stream",
          "name": "stderr",
          "text": [
            "/usr/local/lib/python3.10/dist-packages/sklearn/neural_network/_multilayer_perceptron.py:686: ConvergenceWarning: Stochastic Optimizer: Maximum iterations (200) reached and the optimization hasn't converged yet.\n",
            "  warnings.warn(\n"
          ]
        }
      ]
    },
    {
      "cell_type": "markdown",
      "source": [
        "#LOGISTIC REGRESSION"
      ],
      "metadata": {
        "id": "y72Rjw-bLozn"
      }
    },
    {
      "cell_type": "code",
      "source": [
        "import numpy as np\n",
        "from sklearn.model_selection import train_test_split\n",
        "from sklearn.preprocessing import StandardScaler\n",
        "from imblearn.over_sampling import SMOTE\n",
        "from sklearn.linear_model import LogisticRegression\n",
        "from sklearn.metrics import accuracy_score, precision_score, recall_score\n",
        "\n",
        "\n",
        "X_train, X_test, y_train, y_test = train_test_split(X, y, test_size=0.2, random_state=42)\n",
        "\n",
        "\n",
        "scaler = StandardScaler()\n",
        "X_train_scaled = scaler.fit_transform(X_train)\n",
        "\n",
        "\n",
        "smote = SMOTE(random_state=42)\n",
        "X_train_resampled, y_train_resampled = smote.fit_resample(X_train_scaled, y_train)\n",
        "\n",
        "\n",
        "lr_model = LogisticRegression()\n",
        "lr_model.fit(X_train_resampled, y_train_resampled)\n",
        "\n",
        "\n",
        "X_test_scaled = scaler.transform(X_test)\n",
        "\n",
        "\n",
        "y_pred = lr_model.predict(X_test_scaled)\n",
        "\n",
        "\n",
        "accuracy = accuracy_score(y_test, y_pred)\n",
        "precision = precision_score(y_test, y_pred)\n",
        "recall = recall_score(y_test, y_pred)\n",
        "g_mean = np.sqrt(recall * (1 - precision))\n",
        "\n",
        "print(\"Accuracy:\", accuracy)\n",
        "print(\"Precision:\", precision)\n",
        "print(\"Recall:\", recall)\n",
        "print(\"G-Mean:\", g_mean)"
      ],
      "metadata": {
        "id": "NzoTXhzuL7VF",
        "colab": {
          "base_uri": "https://localhost:8080/"
        },
        "outputId": "225feacc-cd98-4e5b-e750-00fab0536012"
      },
      "execution_count": null,
      "outputs": [
        {
          "output_type": "stream",
          "name": "stdout",
          "text": [
            "Accuracy: 0.7522522522522522\n",
            "Precision: 0.20967741935483872\n",
            "Recall: 0.6842105263157895\n",
            "G-Mean: 0.73535503592651\n"
          ]
        }
      ]
    },
    {
      "cell_type": "markdown",
      "source": [
        "#GaussianNB"
      ],
      "metadata": {
        "id": "IqoxGbXJL_ve"
      }
    },
    {
      "cell_type": "code",
      "source": [
        "import numpy as np\n",
        "from sklearn.model_selection import train_test_split\n",
        "from sklearn.preprocessing import StandardScaler\n",
        "from imblearn.over_sampling import SMOTE\n",
        "from sklearn.naive_bayes import GaussianNB\n",
        "from sklearn.metrics import accuracy_score, precision_score, recall_score\n",
        "\n",
        "\n",
        "X_train, X_test, y_train, y_test = train_test_split(X, y, test_size=0.2, random_state=42)\n",
        "\n",
        "\n",
        "scaler = StandardScaler()\n",
        "X_train_scaled = scaler.fit_transform(X_train)\n",
        "\n",
        "\n",
        "smote = SMOTE(random_state=42)\n",
        "X_train_resampled, y_train_resampled = smote.fit_resample(X_train_scaled, y_train)\n",
        "\n",
        "\n",
        "nb_model = GaussianNB()\n",
        "nb_model.fit(X_train_resampled, y_train_resampled)\n",
        "\n",
        "\n",
        "X_test_scaled = scaler.transform(X_test)\n",
        "\n",
        "\n",
        "y_pred = nb_model.predict(X_test_scaled)\n",
        "\n",
        "\n",
        "accuracy = accuracy_score(y_test, y_pred)\n",
        "precision = precision_score(y_test, y_pred)\n",
        "recall = recall_score(y_test, y_pred)\n",
        "g_mean = np.sqrt(recall * (1 - precision))\n",
        "\n",
        "print(\"Accuracy:\", accuracy)\n",
        "print(\"Precision:\", precision)\n",
        "print(\"Recall:\", recall)\n",
        "print(\"G-Mean:\", g_mean)"
      ],
      "metadata": {
        "id": "-3ZAVhaUMMJs",
        "colab": {
          "base_uri": "https://localhost:8080/"
        },
        "outputId": "e6548f60-373d-4f38-f32e-09a784a0bdb8"
      },
      "execution_count": null,
      "outputs": [
        {
          "output_type": "stream",
          "name": "stdout",
          "text": [
            "Accuracy: 0.8468468468468469\n",
            "Precision: 0.2\n",
            "Recall: 0.2631578947368421\n",
            "G-Mean: 0.45883146774112354\n"
          ]
        }
      ]
    },
    {
      "cell_type": "markdown",
      "source": [
        "#ADASYN"
      ],
      "metadata": {
        "id": "UhDs7-FBPR6F"
      }
    },
    {
      "cell_type": "markdown",
      "source": [
        "**SVM**"
      ],
      "metadata": {
        "id": "TfzxGvRwPgBT"
      }
    },
    {
      "cell_type": "code",
      "source": [
        "import numpy as np\n",
        "from sklearn.model_selection import train_test_split\n",
        "from sklearn.preprocessing import StandardScaler\n",
        "from imblearn.over_sampling import ADASYN\n",
        "from sklearn.svm import SVC\n",
        "from sklearn.metrics import accuracy_score, precision_score, recall_score\n",
        "\n",
        "\n",
        "X_train, X_test, y_train, y_test = train_test_split(X, y, test_size=0.2, random_state=42)\n",
        "\n",
        "scaler = StandardScaler()\n",
        "X_train_scaled = scaler.fit_transform(X_train)\n",
        "\n",
        "\n",
        "adasyn = ADASYN(random_state=42)\n",
        "X_train_resampled, y_train_resampled = adasyn.fit_resample(X_train_scaled, y_train)\n",
        "\n",
        "\n",
        "svm_model = SVC()\n",
        "svm_model.fit(X_train_resampled, y_train_resampled)\n",
        "\n",
        "\n",
        "X_test_scaled = scaler.transform(X_test)\n",
        "\n",
        "\n",
        "y_pred = svm_model.predict(X_test_scaled)\n",
        "\n",
        "\n",
        "accuracy = accuracy_score(y_test, y_pred)\n",
        "precision = precision_score(y_test, y_pred)\n",
        "recall = recall_score(y_test, y_pred)\n",
        "g_mean = np.sqrt(recall * (1 - precision))\n",
        "\n",
        "print(\"Accuracy:\", accuracy)\n",
        "print(\"Precision:\", precision)\n",
        "print(\"Recall:\", recall)\n",
        "print(\"G-Mean:\", g_mean)"
      ],
      "metadata": {
        "id": "XuTgDA82PU-i",
        "colab": {
          "base_uri": "https://localhost:8080/"
        },
        "outputId": "39f161a1-7fa0-4fe3-e049-854dc03a514d"
      },
      "execution_count": null,
      "outputs": [
        {
          "output_type": "stream",
          "name": "stdout",
          "text": [
            "Accuracy: 0.7792792792792793\n",
            "Precision: 0.23214285714285715\n",
            "Recall: 0.6842105263157895\n",
            "G-Mean: 0.7248282140270369\n"
          ]
        }
      ]
    },
    {
      "cell_type": "markdown",
      "source": [
        "# *DT*"
      ],
      "metadata": {
        "id": "UhudzdpIQJ6e"
      }
    },
    {
      "cell_type": "code",
      "source": [
        "import numpy as np\n",
        "from sklearn.model_selection import train_test_split\n",
        "from sklearn.preprocessing import StandardScaler\n",
        "from imblearn.over_sampling import ADASYN\n",
        "from sklearn.tree import DecisionTreeClassifier\n",
        "from sklearn.metrics import accuracy_score, precision_score, recall_score\n",
        "\n",
        "\n",
        "X_train, X_test, y_train, y_test = train_test_split(X, y, test_size=0.2, random_state=42)\n",
        "\n",
        "\n",
        "scaler = StandardScaler()\n",
        "X_train_scaled = scaler.fit_transform(X_train)\n",
        "\n",
        "\n",
        "adasyn = ADASYN(random_state=42)\n",
        "X_train_resampled, y_train_resampled = adasyn.fit_resample(X_train_scaled, y_train)\n",
        "\n",
        "\n",
        "dt_model = DecisionTreeClassifier()\n",
        "dt_model.fit(X_train_resampled, y_train_resampled)\n",
        "\n",
        "\n",
        "X_test_scaled = scaler.transform(X_test)\n",
        "\n",
        "\n",
        "y_pred = dt_model.predict(X_test_scaled)\n",
        "\n",
        "\n",
        "accuracy = accuracy_score(y_test, y_pred)\n",
        "precision = precision_score(y_test, y_pred)\n",
        "recall = recall_score(y_test, y_pred)\n",
        "g_mean = np.sqrt(recall * (1 - precision))\n",
        "\n",
        "print(\"Accuracy:\", accuracy)\n",
        "print(\"Precision:\", precision)\n",
        "print(\"Recall:\", recall)\n",
        "print(\"G-Mean:\", g_mean)"
      ],
      "metadata": {
        "id": "UE1FsY9CQL1u",
        "colab": {
          "base_uri": "https://localhost:8080/"
        },
        "outputId": "a549664a-bb74-4831-c76f-801993e7e7a5"
      },
      "execution_count": null,
      "outputs": [
        {
          "output_type": "stream",
          "name": "stdout",
          "text": [
            "Accuracy: 0.8963963963963963\n",
            "Precision: 0.4090909090909091\n",
            "Recall: 0.47368421052631576\n",
            "G-Mean: 0.5290598323631228\n"
          ]
        }
      ]
    },
    {
      "cell_type": "markdown",
      "source": [
        "***KNN***"
      ],
      "metadata": {
        "id": "sl-HcGzQQZs8"
      }
    },
    {
      "cell_type": "code",
      "source": [
        "import numpy as np\n",
        "from sklearn.model_selection import train_test_split\n",
        "from sklearn.preprocessing import StandardScaler\n",
        "from imblearn.over_sampling import ADASYN\n",
        "from sklearn.neighbors import KNeighborsClassifier\n",
        "from sklearn.metrics import accuracy_score, precision_score, recall_score, fbeta_score\n",
        "\n",
        "\n",
        "X_train, X_test, y_train, y_test = train_test_split(X, y, test_size=0.2, random_state=42)\n",
        "\n",
        "\n",
        "scaler = StandardScaler()\n",
        "X_train_scaled = scaler.fit_transform(X_train)\n",
        "\n",
        "\n",
        "adasyn = ADASYN(random_state=42)\n",
        "X_train_resampled, y_train_resampled = adasyn.fit_resample(X_train_scaled, y_train)\n",
        "\n",
        "\n",
        "knn_model = KNeighborsClassifier()\n",
        "knn_model.fit(X_train_resampled, y_train_resampled)\n",
        "\n",
        "\n",
        "X_test_scaled = scaler.transform(X_test)\n",
        "\n",
        "\n",
        "y_pred = knn_model.predict(X_test_scaled)\n",
        "\n",
        "\n",
        "accuracy = accuracy_score(y_test, y_pred)\n",
        "precision = precision_score(y_test, y_pred)\n",
        "recall = recall_score(y_test, y_pred)\n",
        "g_mean = np.sqrt(recall * (1 - precision))\n",
        "\n",
        "print(\"Accuracy:\", accuracy)\n",
        "print(\"Precision:\", precision)\n",
        "print(\"Recall:\", recall)\n",
        "print(\"G-Mean:\", g_mean)\n"
      ],
      "metadata": {
        "id": "WoZLwnjXQ2iC",
        "colab": {
          "base_uri": "https://localhost:8080/"
        },
        "outputId": "c46e36e1-7c14-47f1-a75a-2e292ffb2931"
      },
      "execution_count": null,
      "outputs": [
        {
          "output_type": "stream",
          "name": "stdout",
          "text": [
            "Accuracy: 0.7882882882882883\n",
            "Precision: 0.23076923076923078\n",
            "Recall: 0.631578947368421\n",
            "G-Mean: 0.6970150353573228\n"
          ]
        }
      ]
    },
    {
      "cell_type": "markdown",
      "source": [
        "**MLP**"
      ],
      "metadata": {
        "id": "blJ96kIGR69-"
      }
    },
    {
      "cell_type": "code",
      "source": [
        "import numpy as np\n",
        "from sklearn.model_selection import train_test_split\n",
        "from sklearn.preprocessing import StandardScaler\n",
        "from imblearn.over_sampling import ADASYN\n",
        "from sklearn.neural_network import MLPClassifier\n",
        "from sklearn.metrics import accuracy_score, precision_score, recall_score, fbeta_score\n",
        "\n",
        "X_train, X_test, y_train, y_test = train_test_split(X, y, test_size=0.2, random_state=42)\n",
        "\n",
        "\n",
        "scaler = StandardScaler()\n",
        "X_train_scaled = scaler.fit_transform(X_train)\n",
        "\n",
        "\n",
        "adasyn = ADASYN(random_state=42)\n",
        "X_train_resampled, y_train_resampled = adasyn.fit_resample(X_train_scaled, y_train)\n",
        "\n",
        "mlp_model = MLPClassifier()\n",
        "mlp_model.fit(X_train_resampled, y_train_resampled)\n",
        "\n",
        "X_test_scaled = scaler.transform(X_test)\n",
        "\n",
        "\n",
        "y_pred = mlp_model.predict(X_test_scaled)\n",
        "\n",
        "\n",
        "accuracy = accuracy_score(y_test, y_pred)\n",
        "precision = precision_score(y_test, y_pred)\n",
        "recall = recall_score(y_test, y_pred)\n",
        "g_mean = np.sqrt(recall * (1 - precision))\n",
        "\n",
        "\n",
        "print(\"Accuracy:\", accuracy)\n",
        "print(\"Precision:\", precision)\n",
        "print(\"Recall:\", recall)\n",
        "print(\"G-Mean:\", g_mean)\n",
        "\n"
      ],
      "metadata": {
        "id": "HZqFF7QvdH8a",
        "colab": {
          "base_uri": "https://localhost:8080/"
        },
        "outputId": "936fc8b1-3843-4bd0-ffd6-e9625d877305"
      },
      "execution_count": null,
      "outputs": [
        {
          "output_type": "stream",
          "name": "stdout",
          "text": [
            "Accuracy: 0.8513513513513513\n",
            "Precision: 0.3055555555555556\n",
            "Recall: 0.5789473684210527\n",
            "G-Mean: 0.634071591877235\n"
          ]
        },
        {
          "output_type": "stream",
          "name": "stderr",
          "text": [
            "/usr/local/lib/python3.10/dist-packages/sklearn/neural_network/_multilayer_perceptron.py:686: ConvergenceWarning: Stochastic Optimizer: Maximum iterations (200) reached and the optimization hasn't converged yet.\n",
            "  warnings.warn(\n"
          ]
        }
      ]
    },
    {
      "cell_type": "markdown",
      "source": [
        "LOGISTIC **REGRESSION**"
      ],
      "metadata": {
        "id": "pMt7w-06dzjR"
      }
    },
    {
      "cell_type": "code",
      "source": [
        "import numpy as np\n",
        "from sklearn.model_selection import train_test_split\n",
        "from sklearn.preprocessing import StandardScaler\n",
        "from imblearn.over_sampling import ADASYN\n",
        "from sklearn.linear_model import LogisticRegression\n",
        "from sklearn.metrics import accuracy_score, precision_score, recall_score\n",
        "\n",
        "X_train, X_test, y_train, y_test = train_test_split(X, y, test_size=0.2, random_state=42)\n",
        "\n",
        "\n",
        "scaler = StandardScaler()\n",
        "X_train_scaled = scaler.fit_transform(X_train)\n",
        "\n",
        "\n",
        "adasyn = ADASYN(random_state=42)\n",
        "X_train_resampled, y_train_resampled = adasyn.fit_resample(X_train_scaled, y_train)\n",
        "\n",
        "\n",
        "lr_model = LogisticRegression()\n",
        "lr_model.fit(X_train_resampled, y_train_resampled)\n",
        "\n",
        "\n",
        "X_test_scaled = scaler.transform(X_test)\n",
        "\n",
        "y_pred = lr_model.predict(X_test_scaled)\n",
        "\n",
        "\n",
        "accuracy = accuracy_score(y_test, y_pred)\n",
        "precision = precision_score(y_test, y_pred)\n",
        "recall = recall_score(y_test, y_pred)\n",
        "g_mean = np.sqrt(recall * (1 - precision))\n",
        "\n",
        "print(\"Accuracy:\", accuracy)\n",
        "print(\"Precision:\", precision)\n",
        "print(\"Recall:\", recall)\n",
        "print(\"G-Mean:\", g_mean)\n"
      ],
      "metadata": {
        "id": "nY0Hn8khd2qd",
        "colab": {
          "base_uri": "https://localhost:8080/"
        },
        "outputId": "ff86113c-22ab-4b74-be73-406f4ab792c7"
      },
      "execution_count": null,
      "outputs": [
        {
          "output_type": "stream",
          "name": "stdout",
          "text": [
            "Accuracy: 0.8243243243243243\n",
            "Precision: 0.2916666666666667\n",
            "Recall: 0.7368421052631579\n",
            "G-Mean: 0.722447108487122\n"
          ]
        }
      ]
    },
    {
      "cell_type": "markdown",
      "source": [
        "***GaussianNB***"
      ],
      "metadata": {
        "id": "0-9DNJcSeKlX"
      }
    },
    {
      "cell_type": "code",
      "source": [
        "import numpy as np\n",
        "from sklearn.model_selection import train_test_split\n",
        "from sklearn.preprocessing import StandardScaler\n",
        "from imblearn.over_sampling import ADASYN\n",
        "from sklearn.naive_bayes import GaussianNB\n",
        "from sklearn.metrics import accuracy_score, precision_score, recall_score\n",
        "\n",
        "\n",
        "X_train, X_test, y_train, y_test = train_test_split(X, y, test_size=0.2, random_state=42)\n",
        "\n",
        "\n",
        "scaler = StandardScaler()\n",
        "X_train_scaled = scaler.fit_transform(X_train)\n",
        "\n",
        "\n",
        "adasyn = ADASYN(random_state=42)\n",
        "X_train_resampled, y_train_resampled = adasyn.fit_resample(X_train_scaled, y_train)\n",
        "\n",
        "\n",
        "nb_model = GaussianNB()\n",
        "nb_model.fit(X_train_resampled, y_train_resampled)\n",
        "\n",
        "\n",
        "X_test_scaled = scaler.transform(X_test)\n",
        "\n",
        "\n",
        "y_pred = nb_model.predict(X_test_scaled)\n",
        "\n",
        "\n",
        "accuracy = accuracy_score(y_test, y_pred)\n",
        "precision = precision_score(y_test, y_pred)\n",
        "recall = recall_score(y_test, y_pred)\n",
        "g_mean = np.sqrt(recall * (1 - precision))\n",
        "\n",
        "print(\"Accuracy:\", accuracy)\n",
        "print(\"Precision:\", precision)\n",
        "print(\"Recall:\", recall)\n",
        "print(\"G-Mean:\", g_mean)\n"
      ],
      "metadata": {
        "id": "KRbfmErTeK-W",
        "colab": {
          "base_uri": "https://localhost:8080/"
        },
        "outputId": "34f0a3a5-64f1-4ead-8d51-7a34af90a6e0"
      },
      "execution_count": null,
      "outputs": [
        {
          "output_type": "stream",
          "name": "stdout",
          "text": [
            "Accuracy: 0.8648648648648649\n",
            "Precision: 0.23809523809523808\n",
            "Recall: 0.2631578947368421\n",
            "G-Mean: 0.447773662839645\n"
          ]
        }
      ]
    },
    {
      "cell_type": "markdown",
      "source": [
        "# RandomOverSampler"
      ],
      "metadata": {
        "id": "c44U_U4ze7rG"
      }
    },
    {
      "cell_type": "markdown",
      "source": [
        "### **SVM**"
      ],
      "metadata": {
        "id": "zVPtGITVe9i2"
      }
    },
    {
      "cell_type": "code",
      "source": [
        "import numpy as np\n",
        "from sklearn.model_selection import train_test_split\n",
        "from sklearn.preprocessing import StandardScaler\n",
        "from imblearn.over_sampling import RandomOverSampler\n",
        "from sklearn.svm import SVC\n",
        "from sklearn.metrics import accuracy_score, precision_score, recall_score\n",
        "\n",
        "\n",
        "X_train, X_test, y_train, y_test = train_test_split(X, y, test_size=0.2, random_state=42)\n",
        "\n",
        "\n",
        "scaler = StandardScaler()\n",
        "X_train_scaled = scaler.fit_transform(X_train)\n",
        "\n",
        "\n",
        "ros = RandomOverSampler(random_state=42)\n",
        "X_train_resampled, y_train_resampled = ros.fit_resample(X_train_scaled, y_train)\n",
        "\n",
        "\n",
        "svm_model = SVC()\n",
        "svm_model.fit(X_train_resampled, y_train_resampled)\n",
        "\n",
        "X_test_scaled = scaler.transform(X_test)\n",
        "\n",
        "y_pred = svm_model.predict(X_test_scaled)\n",
        "\n",
        "accuracy = accuracy_score(y_test, y_pred)\n",
        "precision = precision_score(y_test, y_pred)\n",
        "recall = recall_score(y_test, y_pred)\n",
        "g_mean = np.sqrt(recall * (1 - precision))\n",
        "\n",
        "print(\"Accuracy:\", accuracy)\n",
        "print(\"Precision:\", precision)\n",
        "print(\"Recall:\", recall)\n",
        "print(\"G-Mean:\", g_mean)\n"
      ],
      "metadata": {
        "id": "9UOiLRtLfAiO",
        "colab": {
          "base_uri": "https://localhost:8080/"
        },
        "outputId": "b515c6d9-7d4e-4466-ec47-f149ec81059e"
      },
      "execution_count": null,
      "outputs": [
        {
          "output_type": "stream",
          "name": "stdout",
          "text": [
            "Accuracy: 0.7207207207207207\n",
            "Precision: 0.2054794520547945\n",
            "Recall: 0.7894736842105263\n",
            "G-Mean: 0.7919930960351028\n"
          ]
        }
      ]
    },
    {
      "cell_type": "markdown",
      "source": [
        "### DT"
      ],
      "metadata": {
        "id": "jvCvD6kpfcvt"
      }
    },
    {
      "cell_type": "code",
      "source": [
        "import numpy as np\n",
        "from sklearn.model_selection import train_test_split\n",
        "from imblearn.over_sampling import RandomOverSampler\n",
        "from sklearn.tree import DecisionTreeClassifier\n",
        "from sklearn.metrics import accuracy_score, precision_score, recall_score\n",
        "\n",
        "\n",
        "X_train, X_test, y_train, y_test = train_test_split(X, y, test_size=0.2, random_state=42)\n",
        "\n",
        "ros = RandomOverSampler(random_state=42)\n",
        "X_train_resampled, y_train_resampled = ros.fit_resample(X_train, y_train)\n",
        "\n",
        "\n",
        "dt_model = DecisionTreeClassifier()\n",
        "dt_model.fit(X_train_resampled, y_train_resampled)\n",
        "\n",
        "y_pred = dt_model.predict(X_test)\n",
        "\n",
        "accuracy = accuracy_score(y_test, y_pred)\n",
        "precision = precision_score(y_test, y_pred)\n",
        "recall = recall_score(y_test, y_pred)\n",
        "g_mean = np.sqrt(recall * (1 - precision))\n",
        "\n",
        "print(\"Accuracy:\", accuracy)\n",
        "print(\"Precision:\", precision)\n",
        "print(\"Recall:\", recall)\n",
        "print(\"G-Mean:\", g_mean)\n"
      ],
      "metadata": {
        "id": "BroaoZzogNsr",
        "colab": {
          "base_uri": "https://localhost:8080/"
        },
        "outputId": "a5e91247-dd91-42a5-a8e9-ec1e77182d13"
      },
      "execution_count": null,
      "outputs": [
        {
          "output_type": "stream",
          "name": "stdout",
          "text": [
            "Accuracy: 0.9099099099099099\n",
            "Precision: 0.47368421052631576\n",
            "Recall: 0.47368421052631576\n",
            "G-Mean: 0.49930699897395464\n"
          ]
        }
      ]
    },
    {
      "cell_type": "markdown",
      "source": [
        "### KNN"
      ],
      "metadata": {
        "id": "7ObosByogVkd"
      }
    },
    {
      "cell_type": "code",
      "source": [
        "import numpy as np\n",
        "from sklearn.model_selection import train_test_split\n",
        "from imblearn.over_sampling import RandomOverSampler\n",
        "from sklearn.neighbors import KNeighborsClassifier\n",
        "from sklearn.metrics import accuracy_score, precision_score, recall_score\n",
        "\n",
        "X_train, X_test, y_train, y_test = train_test_split(X, y, test_size=0.2, random_state=42)\n",
        "\n",
        "\n",
        "ros = RandomOverSampler(random_state=42)\n",
        "X_train_resampled, y_train_resampled = ros.fit_resample(X_train, y_train)\n",
        "\n",
        "\n",
        "knn_model = KNeighborsClassifier()\n",
        "knn_model.fit(X_train_resampled, y_train_resampled)\n",
        "\n",
        "\n",
        "y_pred = knn_model.predict(X_test)\n",
        "\n",
        "\n",
        "accuracy = accuracy_score(y_test, y_pred)\n",
        "precision = precision_score(y_test, y_pred)\n",
        "recall = recall_score(y_test, y_pred)\n",
        "g_mean = np.sqrt(recall * (1 - precision))\n",
        "\n",
        "print(\"Accuracy:\", accuracy)\n",
        "print(\"Precision:\", precision)\n",
        "print(\"Recall:\", recall)\n",
        "print(\"G-Mean:\", g_mean)\n"
      ],
      "metadata": {
        "id": "qvqKz0-FgmBj",
        "colab": {
          "base_uri": "https://localhost:8080/"
        },
        "outputId": "54565c8e-7516-42cf-adab-bdfb7ee91a6b"
      },
      "execution_count": null,
      "outputs": [
        {
          "output_type": "stream",
          "name": "stdout",
          "text": [
            "Accuracy: 0.8243243243243243\n",
            "Precision: 0.1875\n",
            "Recall: 0.3157894736842105\n",
            "G-Mean: 0.5065362251294778\n"
          ]
        }
      ]
    },
    {
      "cell_type": "markdown",
      "source": [
        "### **MLP**"
      ],
      "metadata": {
        "id": "qGcmfgnXhGkD"
      }
    },
    {
      "cell_type": "code",
      "source": [
        "import numpy as np\n",
        "from sklearn.model_selection import train_test_split\n",
        "from imblearn.over_sampling import RandomOverSampler\n",
        "from sklearn.neural_network import MLPClassifier\n",
        "from sklearn.metrics import accuracy_score, precision_score, recall_score\n",
        "\n",
        "\n",
        "X_train, X_test, y_train, y_test = train_test_split(X, y, test_size=0.2, random_state=42)\n",
        "\n",
        "\n",
        "ros = RandomOverSampler(random_state=42)\n",
        "X_train_resampled, y_train_resampled = ros.fit_resample(X_train, y_train)\n",
        "\n",
        "\n",
        "mlp_model = MLPClassifier()\n",
        "mlp_model.fit(X_train_resampled, y_train_resampled)\n",
        "\n",
        "\n",
        "y_pred = mlp_model.predict(X_test)\n",
        "\n",
        "accuracy = accuracy_score(y_test, y_pred)\n",
        "precision = precision_score(y_test, y_pred)\n",
        "recall = recall_score(y_test, y_pred)\n",
        "g_mean = np.sqrt(recall * (1 - precision))\n",
        "\n",
        "print(\"Accuracy:\", accuracy)\n",
        "print(\"Precision:\", precision)\n",
        "print(\"Recall:\", recall)\n",
        "print(\"G-Mean:\", g_mean)\n"
      ],
      "metadata": {
        "id": "eHHb9egQhJjt",
        "colab": {
          "base_uri": "https://localhost:8080/"
        },
        "outputId": "8baff473-b727-4a79-bf64-5ac94b0c51c3"
      },
      "execution_count": null,
      "outputs": [
        {
          "output_type": "stream",
          "name": "stdout",
          "text": [
            "Accuracy: 0.1981981981981982\n",
            "Precision: 0.09644670050761421\n",
            "Recall: 1.0\n",
            "G-Mean: 0.9505542064987066\n"
          ]
        }
      ]
    },
    {
      "cell_type": "markdown",
      "source": [
        "### **LR**"
      ],
      "metadata": {
        "id": "5PkqkBqwhqq8"
      }
    },
    {
      "cell_type": "code",
      "source": [
        "import numpy as np\n",
        "from sklearn.model_selection import train_test_split\n",
        "from imblearn.over_sampling import RandomOverSampler\n",
        "from sklearn.linear_model import LogisticRegression\n",
        "from sklearn.metrics import accuracy_score, precision_score, recall_score\n",
        "\n",
        "\n",
        "X_train, X_test, y_train, y_test = train_test_split(X, y, test_size=0.2, random_state=42)\n",
        "\n",
        "\n",
        "ros = RandomOverSampler(random_state=42)\n",
        "X_train_resampled, y_train_resampled = ros.fit_resample(X_train, y_train)\n",
        "\n",
        "\n",
        "lr_model = LogisticRegression()\n",
        "lr_model.fit(X_train_resampled, y_train_resampled)\n",
        "\n",
        "\n",
        "y_pred = lr_model.predict(X_test)\n",
        "\n",
        "\n",
        "accuracy = accuracy_score(y_test, y_pred)\n",
        "precision = precision_score(y_test, y_pred)\n",
        "recall = recall_score(y_test, y_pred)\n",
        "g_mean = np.sqrt(recall * (1 - precision))\n",
        "\n",
        "print(\"Accuracy:\", accuracy)\n",
        "print(\"Precision:\", precision)\n",
        "print(\"Recall:\", recall)\n",
        "print(\"G-Mean:\", g_mean)\n"
      ],
      "metadata": {
        "id": "E98voBUehwMW",
        "colab": {
          "base_uri": "https://localhost:8080/"
        },
        "outputId": "ae9ed5fc-629e-44d9-f69f-d33df4700ee8"
      },
      "execution_count": null,
      "outputs": [
        {
          "output_type": "stream",
          "name": "stdout",
          "text": [
            "Accuracy: 0.7927927927927928\n",
            "Precision: 0.2127659574468085\n",
            "Recall: 0.5263157894736842\n",
            "G-Mean: 0.6436875846301083\n"
          ]
        },
        {
          "output_type": "stream",
          "name": "stderr",
          "text": [
            "/usr/local/lib/python3.10/dist-packages/sklearn/linear_model/_logistic.py:458: ConvergenceWarning: lbfgs failed to converge (status=1):\n",
            "STOP: TOTAL NO. of ITERATIONS REACHED LIMIT.\n",
            "\n",
            "Increase the number of iterations (max_iter) or scale the data as shown in:\n",
            "    https://scikit-learn.org/stable/modules/preprocessing.html\n",
            "Please also refer to the documentation for alternative solver options:\n",
            "    https://scikit-learn.org/stable/modules/linear_model.html#logistic-regression\n",
            "  n_iter_i = _check_optimize_result(\n"
          ]
        }
      ]
    },
    {
      "cell_type": "markdown",
      "source": [
        "### **NB**"
      ],
      "metadata": {
        "id": "A9trKnq_iGSd"
      }
    },
    {
      "cell_type": "code",
      "source": [
        "import numpy as np\n",
        "from sklearn.model_selection import train_test_split\n",
        "from imblearn.over_sampling import RandomOverSampler\n",
        "from sklearn.naive_bayes import GaussianNB\n",
        "from sklearn.metrics import accuracy_score, precision_score, recall_score\n",
        "\n",
        "X_train, X_test, y_train, y_test = train_test_split(X, y, test_size=0.2, random_state=42)\n",
        "\n",
        "\n",
        "ros = RandomOverSampler(random_state=42)\n",
        "X_train_resampled, y_train_resampled = ros.fit_resample(X_train, y_train)\n",
        "\n",
        "\n",
        "nb_model = GaussianNB()\n",
        "nb_model.fit(X_train_resampled, y_train_resampled)\n",
        "\n",
        "\n",
        "y_pred = nb_model.predict(X_test)\n",
        "\n",
        "\n",
        "accuracy = accuracy_score(y_test, y_pred)\n",
        "precision = precision_score(y_test, y_pred)\n",
        "recall = recall_score(y_test, y_pred)\n",
        "g_mean = np.sqrt(recall * (1 - precision))\n",
        "\n",
        "print(\"Accuracy:\", accuracy)\n",
        "print(\"Precision:\", precision)\n",
        "print(\"Recall:\", recall)\n",
        "print(\"G-Mean:\", g_mean)\n"
      ],
      "metadata": {
        "id": "93kVcFITiH1q",
        "colab": {
          "base_uri": "https://localhost:8080/"
        },
        "outputId": "0a18db4a-4534-458d-9ea3-fc6c890f8f7a"
      },
      "execution_count": null,
      "outputs": [
        {
          "output_type": "stream",
          "name": "stdout",
          "text": [
            "Accuracy: 0.8738738738738738\n",
            "Precision: 0.2631578947368421\n",
            "Recall: 0.2631578947368421\n",
            "G-Mean: 0.44034738238635557\n"
          ]
        }
      ]
    }
  ]
}